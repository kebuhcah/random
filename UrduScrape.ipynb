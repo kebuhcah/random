{
 "cells": [
  {
   "cell_type": "code",
   "execution_count": 1,
   "metadata": {
    "collapsed": true
   },
   "outputs": [],
   "source": [
    "from urllib2 import urlopen, Request\n",
    "from bs4 import BeautifulSoup\n",
    "from pandas import DataFrame\n"
   ]
  },
  {
   "cell_type": "code",
   "execution_count": null,
   "metadata": {
    "collapsed": true
   },
   "outputs": [],
   "source": [
    "\"http://dsalsrv02.uchicago.edu/cgi-bin/philologic/getobject.pl?p.0:0.platts\" # 0001\n",
    "\"http://dsalsrv02.uchicago.edu/cgi-bin/philologic/getobject.pl?p.0:125.platts\" # 0126\n",
    "\n",
    "\"http://dsalsrv02.uchicago.edu/cgi-bin/philologic/getobject.pl?p.1:0.platts\" # 0127\n",
    "\"http://dsalsrv02.uchicago.edu/cgi-bin/philologic/getobject.pl?p.1:120.platts\" # 0247\n",
    "\n",
    "\"http://dsalsrv02.uchicago.edu/cgi-bin/philologic/getobject.pl?p.2:0.platts\" # 0248\n",
    "\"http://dsalsrv02.uchicago.edu/cgi-bin/philologic/getobject.pl?p.2:126.platts\" # 0374\n",
    "\n",
    "\"http://dsalsrv02.uchicago.edu/cgi-bin/philologic/getobject.pl?p.3:0.platts\" # 0375\n",
    "\"http://dsalsrv02.uchicago.edu/cgi-bin/philologic/getobject.pl?p.3:128.platts\" # 0503\n",
    "\n",
    "\"http://dsalsrv02.uchicago.edu/cgi-bin/philologic/getobject.pl?p.4:0.platts\" # 0504\n",
    "\"http://dsalsrv02.uchicago.edu/cgi-bin/philologic/getobject.pl?p.4:129.platts\" # 0633\n",
    "\n",
    "\"http://dsalsrv02.uchicago.edu/cgi-bin/philologic/getobject.pl?p.5:0.platts\" # 0634\n",
    "\"http://dsalsrv02.uchicago.edu/cgi-bin/philologic/getobject.pl?p.5:127.platts\" # 0761\n",
    "\n",
    "\"http://dsalsrv02.uchicago.edu/cgi-bin/philologic/getobject.pl?p.6:0.platts\" # 0762\n",
    "\"http://dsalsrv02.uchicago.edu/cgi-bin/philologic/getobject.pl?p.6:125.platts\" # 0887\n",
    "\n",
    "\"http://dsalsrv02.uchicago.edu/cgi-bin/philologic/getobject.pl?p.7:0.platts\" # 0888\n",
    "\"http://dsalsrv02.uchicago.edu/cgi-bin/philologic/getobject.pl?p.7:129.platts\" # 1017\n",
    "\n",
    "\"http://dsalsrv02.uchicago.edu/cgi-bin/philologic/getobject.pl?p.8:0.platts\" # 1018\n",
    "\"http://dsalsrv02.uchicago.edu/cgi-bin/philologic/getobject.pl?p.8:129.platts\" # 1147\n",
    "\n",
    "\"http://dsalsrv02.uchicago.edu/cgi-bin/philologic/getobject.pl?p.9:0.platts\" # 1148\n",
    "\"http://dsalsrv02.uchicago.edu/cgi-bin/philologic/getobject.pl?p.9:106.platts\" # 1254"
   ]
  },
  {
   "cell_type": "code",
   "execution_count": 68,
   "metadata": {
    "collapsed": false
   },
   "outputs": [],
   "source": [
    "def getPageUrl(page):\n",
    "    return \"http://dsalsrv02.uchicago.edu/cgi-bin/app/biswas-bengali_query.py?page=\" + str(page)\n",
    "\n",
    "useragent = 'Mozilla/5.0 (Macintosh; Intel Mac OS X 10_12_3) AppleWebKit/537.36 (KHTML, like Gecko) Chrome/56.0.2924.87 Safari/537.36'\n",
    "\n",
    "requestheaders={'User-Agent': useragent,\n",
    "    'Accept': 'text/html,application/xhtml+xml,application/xml;q=0.9,image/webp,*/*;q=0.8',\n",
    "    'Accept-Encoding': 'gzip, deflate, sdch',\n",
    "    'Accept-Language': 'en,en-US;q=0.8,bs;q=0.6,sw;q=0.4',\n",
    "    'Cache-Control': 'max-age=0',\n",
    "    'Connection': 'keep-alive',\n",
    "    'Upgrade-Insecure-Requests': '1',\n",
    "    'Host': 'dsalsrv02.uchicago.edu'}\n",
    "\n"
   ]
  },
  {
   "cell_type": "code",
   "execution_count": 15,
   "metadata": {
    "collapsed": false
   },
   "outputs": [
    {
     "name": "stdout",
     "output_type": "stream",
     "text": [
      "http://dsalsrv02.uchicago.edu/cgi-bin/app/biswas-bengali_query.py?page=1060\n"
     ]
    }
   ],
   "source": [
    "print getPageUrl(1060)"
   ]
  },
  {
   "cell_type": "code",
   "execution_count": 27,
   "metadata": {
    "collapsed": false
   },
   "outputs": [
    {
     "data": {
      "text/plain": [
       "'Mozilla/5.0 (Macintosh; Intel Mac OS X 10_12_3) AppleWebKit/537.36 (KHTML, like Gecko) Chrome/56.0.2924.87 Safari/537.36'"
      ]
     },
     "execution_count": 27,
     "metadata": {},
     "output_type": "execute_result"
    }
   ],
   "source": [
    "useragent"
   ]
  },
  {
   "cell_type": "code",
   "execution_count": 69,
   "metadata": {
    "collapsed": false
   },
   "outputs": [],
   "source": [
    "import string\n",
    "\n",
    "f = open('workfile.html', 'w+')\n",
    "\n",
    "for i in range(1,1061):\n",
    "    content=urlopen(Request(getPageUrl(i), headers=requestheaders)).read()\n",
    "    f.write('Page '+str(i)+'<br>')\n",
    "    f.write('<br>'.join([entry  for entry in content.split('<br>') if ') <a' in entry]))"
   ]
  },
  {
   "cell_type": "code",
   "execution_count": 59,
   "metadata": {
    "collapsed": false
   },
   "outputs": [
    {
     "data": {
      "text/plain": [
       "<!DOCTYPE html PUBLIC \"-//W3C//DTD XHTML 1.0 Transitional//EN\">\n",
       "<html>\n",
       "<head>\n",
       "<meta content=\"text/html; charset=utf-8\" http-equiv=\"Content-Type\"/>\n",
       "<title>Samsad Bengali-English dictionary</title>\n",
       "<meta content=\"Online version of Sailendra Biswas's 'Samsad Bengali-English dictionary. 3rd ed.' \n",
       "from the Digital Dictionaries of South Asia\" name=\"description\"/>\n",
       "<meta content=\"Bengali Dictionary, Online Bengali Dictionary, Bengali English Dictionary, Bengali English Online Dictionary, Online Bengali English Dictionary, Bengali to English Dictionary, Online Bengali to English Dictionary, \n",
       "Bengali to English Online Dictionary\" name=\"keywords\"/>\n",
       "<meta content=\"Samsad Bengali-English dictionary. 3rd ed.\" name=\"DC.title\"/>\n",
       "<meta content=\"Biswas, Sailendra, 1918-\" name=\"DC.creator\"/>\n",
       "<meta content=\" Bengali language -- Dictionaries -- English.\" name=\"DC.subject\" scheme=\"LCSH\"/>\n",
       "<meta content=\"Digital South Asia Library\" name=\"DC.Contributor\"/>\n",
       "<meta content=\"Calcutta : Sahitya Samsad\" name=\"DC.publisher\"/>\n",
       "<meta content=\"2000\" name=\"DC.date\"/>\n",
       "<meta content=\"Dictionary\" name=\"DC.type\"/>\n",
       "<meta content=\"text/enriched; text/html; text/plain;\" name=\"DC.format\"/>\n",
       "<meta content=\"eng\" name=\"DC.language\" scheme=\"ISO 639-2\"/>\n",
       "<meta content=\"ben\" name=\"DC.language\" scheme=\"ISO 639-2\"/>\n",
       "<meta content=\"2005-06-10\" name=\"DC.Date.Created\"/>\n",
       "<meta content=\"http://dsal.uchicago.edu/dictionaries/biswas-bengali/\" name=\"DC.Identifier\" scheme=\"URL\"/>\n",
       "<meta content=\"http://www.purl.oclc.org/dsal/dictionaries/PK1687.B50\" name=\"DC.identifier\" scheme=\"PURL\"/>\n",
       "</head>\n",
       "<body bgcolor=\"white\" link=\"navy\" text=\"black\" vlink=\"green\">\n",
       "<table bgcolor=\"#FFFFFF\" border=\"0\" cellpadding=\"2\" cellspacing=\"2\" width=\"95%\"><tr>\n",
       "<td align=\"left\">\n",
       "<a href=\"http://dsal.uchicago.edu/dictionaries/\"><img alt=\"Digital Dictionaries of South Asia\" border=\"0\" src=\"/dictionaries/graphics/ddsa-small.jpg\"/></a>\n",
       "</td>\n",
       "<td>\n",
       "<a href=\"http://dsal.uchicago.edu/dictionaries/biswas-bengali/\"><img alt=\"Samsad Bengali-English dictionary\" border=\"0\" src=\"/dictionaries/graphics/biswas-bengali.jpg\"/></a>\n",
       "</td></tr></table>\n",
       "</body>\n",
       "</html>"
      ]
     },
     "execution_count": 59,
     "metadata": {},
     "output_type": "execute_result"
    }
   ],
   "source": [
    "BeautifulSoup(content)"
   ]
  }
 ],
 "metadata": {
  "kernelspec": {
   "display_name": "Python 2",
   "language": "python",
   "name": "python2"
  },
  "language_info": {
   "codemirror_mode": {
    "name": "ipython",
    "version": 2
   },
   "file_extension": ".py",
   "mimetype": "text/x-python",
   "name": "python",
   "nbconvert_exporter": "python",
   "pygments_lexer": "ipython2",
   "version": "2.7.13"
  }
 },
 "nbformat": 4,
 "nbformat_minor": 2
}
