{
 "cells": [
  {
   "cell_type": "code",
   "execution_count": 1,
   "metadata": {
    "collapsed": true
   },
   "outputs": [],
   "source": [
    "from urllib2 import urlopen, Request\n",
    "from bs4 import BeautifulSoup\n",
    "from pandas import DataFrame\n"
   ]
  },
  {
   "cell_type": "code",
   "execution_count": null,
   "metadata": {
    "collapsed": true
   },
   "outputs": [],
   "source": [
    "\"http://dsalsrv02.uchicago.edu/cgi-bin/philologic/getobject.pl?p.0:0.platts\" # 0001\n",
    "\"http://dsalsrv02.uchicago.edu/cgi-bin/philologic/getobject.pl?p.0:125.platts\" # 0126\n",
    "\n",
    "\"http://dsalsrv02.uchicago.edu/cgi-bin/philologic/getobject.pl?p.1:0.platts\" # 0127\n",
    "\"http://dsalsrv02.uchicago.edu/cgi-bin/philologic/getobject.pl?p.1:120.platts\" # 0247\n",
    "\n",
    "\"http://dsalsrv02.uchicago.edu/cgi-bin/philologic/getobject.pl?p.2:0.platts\" # 0248\n",
    "\"http://dsalsrv02.uchicago.edu/cgi-bin/philologic/getobject.pl?p.2:126.platts\" # 0374\n",
    "\n",
    "\"http://dsalsrv02.uchicago.edu/cgi-bin/philologic/getobject.pl?p.3:0.platts\" # 0375\n",
    "\"http://dsalsrv02.uchicago.edu/cgi-bin/philologic/getobject.pl?p.3:128.platts\" # 0503\n",
    "\n",
    "\"http://dsalsrv02.uchicago.edu/cgi-bin/philologic/getobject.pl?p.4:0.platts\" # 0504\n",
    "\"http://dsalsrv02.uchicago.edu/cgi-bin/philologic/getobject.pl?p.4:129.platts\" # 0633\n",
    "\n",
    "\"http://dsalsrv02.uchicago.edu/cgi-bin/philologic/getobject.pl?p.5:0.platts\" # 0634\n",
    "\"http://dsalsrv02.uchicago.edu/cgi-bin/philologic/getobject.pl?p.5:127.platts\" # 0761\n",
    "\n",
    "\"http://dsalsrv02.uchicago.edu/cgi-bin/philologic/getobject.pl?p.6:0.platts\" # 0762\n",
    "\"http://dsalsrv02.uchicago.edu/cgi-bin/philologic/getobject.pl?p.6:125.platts\" # 0887\n",
    "\n",
    "\"http://dsalsrv02.uchicago.edu/cgi-bin/philologic/getobject.pl?p.7:0.platts\" # 0888\n",
    "\"http://dsalsrv02.uchicago.edu/cgi-bin/philologic/getobject.pl?p.7:129.platts\" # 1017\n",
    "\n",
    "\"http://dsalsrv02.uchicago.edu/cgi-bin/philologic/getobject.pl?p.8:0.platts\" # 1018\n",
    "\"http://dsalsrv02.uchicago.edu/cgi-bin/philologic/getobject.pl?p.8:129.platts\" # 1147\n",
    "\n",
    "\"http://dsalsrv02.uchicago.edu/cgi-bin/philologic/getobject.pl?p.9:0.platts\" # 1148\n",
    "\"http://dsalsrv02.uchicago.edu/cgi-bin/philologic/getobject.pl?p.9:106.platts\" # 1254"
   ]
  },
  {
   "cell_type": "code",
   "execution_count": 2,
   "metadata": {
    "collapsed": true
   },
   "outputs": [],
   "source": [
    "end_indexes = [125, 120, 126, 128, 129, 127, 125, 129, 129, 106]"
   ]
  },
  {
   "cell_type": "code",
   "execution_count": 4,
   "metadata": {
    "collapsed": false
   },
   "outputs": [],
   "source": [
    "def getPageUrl(volume, page):\n",
    "    return \"http://dsalsrv02.uchicago.edu/cgi-bin/philologic/getobject.pl?p.\" + str(volume) + \":\" + str(page) + \".platts\"\n",
    "\n",
    "useragent = 'Mozilla/5.0 (Macintosh; Intel Mac OS X 10_12_3) AppleWebKit/537.36 (KHTML, like Gecko) Chrome/56.0.2924.87 Safari/537.36'\n",
    "\n",
    "requestheaders={'User-Agent': useragent,\n",
    "    'Accept': 'text/html,application/xhtml+xml,application/xml;q=0.9,image/webp,*/*;q=0.8',\n",
    "    'Accept-Encoding': 'gzip, deflate, sdch',\n",
    "    'Accept-Language': 'en,en-US;q=0.8,bs;q=0.6,sw;q=0.4',\n",
    "    'Cache-Control': 'max-age=0',\n",
    "    'Connection': 'keep-alive',\n",
    "    'Upgrade-Insecure-Requests': '1',\n",
    "    'Host': 'dsalsrv02.uchicago.edu'}\n",
    "\n"
   ]
  },
  {
   "cell_type": "code",
   "execution_count": 7,
   "metadata": {
    "collapsed": false
   },
   "outputs": [
    {
     "name": "stdout",
     "output_type": "stream",
     "text": [
      "http://dsalsrv02.uchicago.edu/cgi-bin/philologic/getobject.pl?p.9:106.platts\n"
     ]
    }
   ],
   "source": [
    "print getPageUrl(9,106)"
   ]
  },
  {
   "cell_type": "code",
   "execution_count": 8,
   "metadata": {
    "collapsed": false
   },
   "outputs": [
    {
     "data": {
      "text/plain": [
       "'Mozilla/5.0 (Macintosh; Intel Mac OS X 10_12_3) AppleWebKit/537.36 (KHTML, like Gecko) Chrome/56.0.2924.87 Safari/537.36'"
      ]
     },
     "execution_count": 8,
     "metadata": {},
     "output_type": "execute_result"
    }
   ],
   "source": [
    "useragent"
   ]
  },
  {
   "cell_type": "code",
   "execution_count": 10,
   "metadata": {
    "collapsed": false
   },
   "outputs": [
    {
     "data": {
      "text/plain": [
       "[0, 1, 2, 3, 4, 5, 6, 7, 8, 9]"
      ]
     },
     "execution_count": 10,
     "metadata": {},
     "output_type": "execute_result"
    }
   ],
   "source": [
    "range(0,10)"
   ]
  },
  {
   "cell_type": "code",
   "execution_count": 32,
   "metadata": {
    "collapsed": false
   },
   "outputs": [],
   "source": [
    "import string\n",
    "\n",
    "f = open('workfile.html', 'w+')\n",
    "\n",
    "#for v in range(0,10):\n",
    "#    for p in range(0, end_indexes[v] + 1):\n",
    "for v in range(0,10):\n",
    "    for p in range(0, end_indexes[v] + 2):\n",
    "        content=urlopen(Request(getPageUrl(v,p), headers=requestheaders)).read()\n",
    "        f.write(content.split('</table>')[-2].split('<table ')[0])\n",
    "\n",
    "f.close() # to prevent weird buffering issues at end!"
   ]
  },
  {
   "cell_type": "code",
   "execution_count": 26,
   "metadata": {
    "collapsed": false
   },
   "outputs": [
    {
     "data": {
      "text/plain": [
       "126"
      ]
     },
     "execution_count": 26,
     "metadata": {},
     "output_type": "execute_result"
    }
   ],
   "source": [
    "end_indexes[0]+1\n",
    "end_indexes[v] + 1"
   ]
  },
  {
   "cell_type": "code",
   "execution_count": 20,
   "metadata": {
    "collapsed": false
   },
   "outputs": [
    {
     "data": {
      "text/plain": [
       "<html><head>\n",
       "<title>A dictionary of Urdu, classical Hindi, and English</title>\n",
       "<meta content=\"text/html; charset=utf-8\" http-equiv=\"Content-Type\"/>\n",
       "<style>\n",
       "\n",
       "span.equivalentHW {\n",
       "     color: #006400;\n",
       "}\n",
       ".head {\n",
       "display: none;\n",
       "   font-size: 24px;\n",
       "}\n",
       "</style>\n",
       "</head>\n",
       "<body bgcolor=\"white\" link=\"navy\" onkeypress=\"if (dictOn) checkKeyPressed(event);\" text=\"black\" vlink=\"green\">\n",
       "<table bgcolor=\"#FFFFFF\" border=\"0\" cellpadding=\"2\" cellspacing=\"2\" width=\"95%\"><tr>\n",
       "<td align=\"left\">\n",
       "<a href=\"http://dsal.uchicago.edu/dictionaries/\"><img alt=\"Digital Dictionaries of South Asia\" border=\"0\" src=\"/dictionaries/graphics/ddsa-small.jpg\"/></a>\n",
       "</td>\n",
       "<td>\n",
       "<a href=\"http://dsal.uchicago.edu/dictionaries/platts/\"><img alt=\"A dictionary of Urdu, classical Hindi, and English\" border=\"0\" src=\"/dictionaries/graphics/platts.jpg\"/></a>\n",
       "</td></tr></table>\n",
       "<table width=\"95%\"><tr><td align=\"left\" width=\"50%\"><a href=\"/cgi-bin/philologic/getobject.pl?p.0:124.platts\">Previous page</a><p>\n",
       "</p></td><td align=\"right\" width=\"50%\"></td></tr></table><p></p><center> -- 0126 -- </center><p>\n",
       "\n",
       "dawn;—bass (in music), &amp;c.=A. <i>bam</i>, q.v.:—<i>bām-dād</i>,\n",
       "<i>bām-dādān</i>, s.f. Morning, dawn;—adv. In the morning.</p>\n",
       "<div2 id=\"بامب_बाम्ब_bāmb-,_properly_بانب_बांब_bāṅb-\" type=\"article\">\n",
       "<span class=\"head\"><span class=\"hi\">بامب बाम्ब bāmb-, properly بانب बांब bāṅb-</span></span>\n",
       "<p>H <pa>بامب</pa> <d>बाम्ब</d> <i>bāmb</i>-, properly <pa>بانب</pa> <d>बांब</d> <i>bāṅb</i>-, q.v.</p>\n",
       "</div2>\n",
       "<div2 id=\"بامن_बामन_bāman,_sm=brāhmaṇ\" type=\"article\">\n",
       "<span class=\"head\"><span class=\"hi\">بامن बामन bāman, sm=brāhmaṇ</span></span>\n",
       "<p>H <pa>بامن</pa> <d>बामन</d> <i>bāman</i>, sm=<i>brāhmaṇ</i>, q.v.</p>\n",
       "</div2>\n",
       "<div2 id=\"بامن_बामन_bāman\" type=\"article\">\n",
       "<span class=\"head\"><span class=\"hi\">بامن बामन bāman</span></span>\n",
       "<p>H <pa>بامن</pa> <d>बामन</d> <i>bāman</i>,\n",
       "\n",
       "<span class=\"equivalentHW\">= H <pa>بامنا</pa> <d>बामना</d> <i>bāmnā</i>,</span> [S. <d>वामन</d>], s.m. Dwarf; the\n",
       "fifth or dwarf-incarnation of\n",
       "the god Vishnu (undertaken to\n",
       "humble the pride of the Daitya Bali, who had acquired\n",
       "dominion over the three worlds).</p></div2>\n",
       "<div2 id=\"بامنا_बामना_bāmnā\" type=\"article\">\n",
       "<span class=\"head\"><span class=\"hi\">بامنا बामना bāmnā</span></span>\n",
       "<p>H <pa>بامنا</pa> <d>बामना</d> <i>bāmnā</i>,\n",
       "\n",
       "<span class=\"equivalentHW\">= H <pa>بامن</pa> <d>बामन</d> <i>bāman</i>,</span> [S. <d>वामन</d>], s.m. Dwarf; the\n",
       "fifth or dwarf-incarnation of\n",
       "the god Vishnu (undertaken to\n",
       "humble the pride of the Daitya Bali, who had acquired\n",
       "dominion over the three worlds).</p></div2>\n",
       "<div2 id=\"بامنهہ_बामन्ह_bāmanh\" type=\"article\">\n",
       "<span class=\"head\"><span class=\"hi\">بامنهہ बामन्ह bāmanh</span></span>\n",
       "<p>H <pa>بامنهہ</pa> <d>बामन्ह</d> <i>bāmanh</i>, s.m.=<i>brāhmaṇ</i>, q.v.</p>\n",
       "</div2>\n",
       "<div2 id=\"بامن_هٿي_बामनहट्टी_bāman-haṭṭī\" type=\"article\">\n",
       "<span class=\"head\"><span class=\"hi\">بامن هٿي बामनहट्टी bāman-haṭṭī</span></span>\n",
       "<p>H <pa>بامن هٿي</pa> <d>बामनहट्टी</d> <i>bāman-haṭṭī</i> [S. <d>ब्राह्यण</d>+<d>यष्टिका</d>], s.f. The shrub <i>Clerodendrum siphonanthus</i>.</p>\n",
       "</div2>\n",
       "<div2 id=\"بامني_बामनी_bāmnī\" type=\"article\">\n",
       "<span class=\"head\"><span class=\"hi\">بامني बामनी bāmnī</span></span>\n",
       "<p>H <pa>بامني</pa> <d>बामनी</d> <i>bāmnī</i>, s.f.=<i>bāmhnī</i>, q.v.</p>\n",
       "</div2>\n",
       "<div2 id=\"بامهن_बाम्हन_bāmhan\" type=\"article\">\n",
       "<span class=\"head\"><span class=\"hi\">بامهن बाम्हन bāmhan</span></span>\n",
       "<p>H <pa>بامهن</pa> <d>बाम्हन</d> <i>bāmhan</i>, s.m.=<i>brāhmaṇ</i>, q.v.</p>\n",
       "</div2>\n",
       "<div2 id=\"بامهني_बाम्हनी_bāmhnī\" type=\"article\">\n",
       "<span class=\"head\"><span class=\"hi\">بامهني बाम्हनी bāmhnī</span></span>\n",
       "<p>H <pa>بامهني</pa> <d>बाम्हनी</d> <i>bāmhnī</i> [S. <d>ब्राह्यणी</d>], s.f. Wife of a\n",
       "\n",
       "<i>Brāhmaṇ</i>, &amp;c. (see <i>brāhmaṇī</i>); a kind of lizard;—a medicinal herb, the moon-plant, <i>Aselepias acida</i>;—the yellow\n",
       "stamens of the lotus (in contradistinction to <i>ćamārī</i>,\n",
       "'black stamens of a flower'); a stye on the eye-lid, or a\n",
       "disease which causes the eyelashes to fall off.</p></div2>\n",
       "<div2 id=\"بامي_बामी_bāmī\" type=\"article\">\n",
       "<span class=\"head\"><span class=\"hi\">بامي बामी bāmī</span></span>\n",
       "<p>H <pa>بامي</pa> <d>बामी</d> <i>bāmī</i>, s.f.=<i>bām</i>, 'eel,' q.v.</p>\n",
       "</div2>\n",
       "<div2 id=\"بامي_बामी_bāmī\" type=\"article\">\n",
       "<span class=\"head\"><span class=\"hi\">بامي बामी bāmī</span></span>\n",
       "<p>H <pa>بامي</pa> <d>बामी</d> <i>bāmī</i>, s.f.=<i>bāṅbhī</i>, <i>bāṅbī</i>, q.q.v.</p>\n",
       "</div2>\n",
       "<div2 id=\"بان_बान_bān\" type=\"article\">\n",
       "<span class=\"head\"><span class=\"hi\">بان बान bān</span></span>\n",
       "<p>H <pa>بان</pa> <d>बान</d> <i>bān</i> [S. <d>वर्णः</d>; Prk. <d>वण्मो</d>], s.f. Quality, property, temper, disposition, nature, character, conduct,\n",
       "\n",
       "manners, habit, custom (cf. <i>ān-bān</i>, s.v. <i>ān</i>);—s.m. The\n",
       "marriage rite which prescribes a certain number of\n",
       "baths (generally from three to eleven) for the bride and\n",
       "bridegroom:—<i>bān baiṭhnā</i>, v.n. To take the baths prescribed by the marriage rite (mentioned above):—<i>bān\n",
       "paṛnā</i>, v.n. To fall into, or to acquire or form, a habit,\n",
       "&amp;c.; to be trained; to be accustomed (to):—<i>bān ḍālnā</i>,\n",
       "v.n. To lay the foundation of character, &amp;c., cultivate\n",
       "a habit, &amp;c.; to educate, train; to habituate, accustom,\n",
       "inure; to naturalize:—<i>bān sīkhnā</i>, v.n.=<i>bān paṛnā</i>.</p></div2>\n",
       "<div2 id=\"بان_बान_bān\" type=\"article\">\n",
       "<span class=\"head\"><span class=\"hi\">بان बान bān</span></span>\n",
       "<p>H <pa>بان</pa> <d>बान</d> <i>bān</i> [S. <d>वाण</d>], s.m. Reed-shaft, arrow, dart;\n",
       "\n",
       "rocket (for battle), sky-rocket;—the bloody track of a\n",
       "wounded animal;—name of an Asur (son of <i>Rājā Bali</i>, an\n",
       "enemy of <i>Vishṇu</i>):—<i>bān-āsur</i> (<i>vāṇa</i>+<i>asura</i>), s.m. <i>Bān</i> the\n",
       "Asur:—<i>bān-dār</i>, <i>bān-wālā</i>, s.m. Bowman, archer; rocketeer:—<i>bān-kosh</i>, s.m. Quiver.</p></div2>\n",
       "<div2 id=\"بان_बान_bān\" type=\"article\">\n",
       "<span class=\"head\"><span class=\"hi\">بان बान bān</span></span>\n",
       "<p>H <pa>بان</pa> <d>बान</d> <i>bān</i> [S. <d>वान</d>, rt. <d>वा</d>], s.m. The high tidal\n",
       "\n",
       "wave in Indian rivers commonly called 'the Bore.'</p></div2>\n",
       "<div2 id=\"بان_बान_bān\" type=\"article\">\n",
       "<span class=\"head\"><span class=\"hi\">بان बान bān</span></span>\n",
       "<p>H <pa>بان</pa> <d>बान</d> <i>bān</i> [S. <d>वान</d> and <d>वाण</d>, rt. <d>वे</d>], s.m. Rope\n",
       "\n",
       "made of twisted grass (<i>ḍāb</i>), or of <i>mūṅj</i> (used for the\n",
       "bottom of beds as well as for other purposes).</p></div2>\n",
       "<div2 id=\"بان_बान_bān\" type=\"article\">\n",
       "<span class=\"head\"><span class=\"hi\">بان बान bān</span></span>\n",
       "<p>P H <pa>بان</pa> <d>बान</d> <i>bān</i> [S. suff. <d>वान्</d>; <d>वत्</d>], A suffix signifying\n",
       "\n",
       "'keeper,' 'man,' &amp;c. (e.g. <i>dar-bān</i>, 'door-keeper'; <i>gāṛī-bān</i>, 'cart-man'; <i>bāg̠-bān</i>, 'garden-er.' The suffix is also\n",
       "written <i>wān</i>).</p></div2>\n",
       "<div2 id=\"بان_bān\" type=\"article\">\n",
       "<span class=\"head\"><span class=\"hi\">بان bān</span></span>\n",
       "<p>A <pa>بان</pa> <i>bān</i>, s.m. The <i>ben</i>-tree, <i>Hyperanthera moringa</i> (syn.\n",
       "\n",
       "<i>sahajnā</i>);—the tree <i>Melia sempervirens</i> (syn. <i>bakāʼin</i>);—the tree which yields Benzoin or Benjamin, <i>Styrax benzoin</i>;—a species of willow, <i>Salix Ӕgyptia</i> (Pers. syn. <i>bed-mushk</i>).</p></div2>\n",
       "<div2 id=\"بان_बां_bāṅ\" type=\"article\">\n",
       "<span class=\"head\"><span class=\"hi\">بان बां bāṅ</span></span>\n",
       "<p>H <pa>بان</pa> <d>बां</d> <i>bāṅ</i>, s.f. 1˚=<i>bāṅh</i>; 2˚ adj.=<i>bām</i>, q.q.v.</p>\n",
       "</div2>\n",
       "<div2 id=\"بانا_बाना_bānā\" type=\"article\">\n",
       "<span class=\"head\"><span class=\"hi\">بانا बाना bānā</span></span>\n",
       "<p>H <pa>بانا</pa> <d>बाना</d> <i>bānā</i> [S. <d>वान</d>, rt. <d>वे</d>+<d>कः</d>], s.m. The woof (as\n",
       "\n",
       "opp. to <i>tānā</i>, 'warp'); a silken thread used in weaving\n",
       "and sewing, &amp;c.; a kind of hemispherical bucket made of\n",
       "iron plates closely riveted together, used in raising\n",
       "water for irrigation.</p></div2>\n",
       "<div2 id=\"بانا_बाना_bānā\" type=\"article\">\n",
       "<span class=\"head\"><span class=\"hi\">بانا बाना bānā</span></span>\n",
       "<p>H <pa>بانا</pa> <d>बाना</d> <i>bānā</i> [S. <d>वाण</d>, rt. <d>वण्</d>+<d>कः</d>], s.m. A kind of\n",
       "\n",
       "rocket; a kind of sword, a sort of <i>paṭṭā</i> with a thick-edged blade and a wooden hilt:—<i>bānā bāṅdhnā</i>, v.n. To\n",
       "be armed; to be ready; to be determined:—<i>bānā-wālā</i>,\n",
       "s.m. Rocket-thrower (cf. <i>bān-dār</i>).</p></div2>\n",
       "<div2 id=\"بانا_बाना_bānā\" type=\"article\">\n",
       "<span class=\"head\"><span class=\"hi\">بانا बाना bānā</span></span>\n",
       "<p>H <pa>بانا</pa> <d>बाना</d> <i>bānā</i> [S. <d>पाण</d>+<d>कः</d>], s.m. Stake, bet, wager:—<i>bānā bāṅdhnā</i>, v.n. To stake, bet, wager (syn. <i>budnā</i>).</p>\n",
       "</div2>\n",
       "<div2 id=\"بانا_बाना_bānā\" type=\"article\">\n",
       "<span class=\"head\"><span class=\"hi\">بانا बाना bānā</span></span>\n",
       "<p>H <pa>بانا</pa> <d>बाना</d> <i>bānā</i> [S. <d>वर्ण</d>+<d>कः</d>; Prk.  <d>वण्मको</d>], s.m. Appearance, form, shape, colour; property, habit, peculiarity; profession, caste, sect, class; veil, covering;\n",
       "\n",
       "dress, garment, costume, fashion or style of dress;\n",
       "uniform, livery; mask, disguise:—<i>bānā badalnā</i>, v.n. To\n",
       "change (one's) dress; to disguise oneself (syn. <i>bhes badalnā</i>).</p></div2>\n",
       "<div2 id=\"بانا_बाना_bānā\" type=\"article\">\n",
       "<span class=\"head\"><span class=\"hi\">بانا बाना bānā</span></span>\n",
       "<p>H <pa>بانا</pa> <d>बाना</d> <i>bānā</i> [S. <d>वहन</d>, rt. <d>वह</d>; cf. <i>bāhnā</i>, v.n. To\n",
       "\n",
       "\n",
       "open, unfold, streten, spread; to cast;—v.n. To open\n",
       "(=<i>khulnā</i>); to burst open, split (=<i>phaṭnā</i>).</p></div2>\n",
       "<div2 id=\"بانات_बानात_bānāt,_vulg._banāt_cf._bānā,_'woof'\" type=\"article\">\n",
       "<span class=\"head\"><span class=\"hi\">بانات बानात bānāt, vulg. banāt cf. bānā, 'woof'</span></span>\n",
       "<p>H <pa>بانات</pa> <d>बानात</d> <i>bānāt</i>, vulg. <i>banāt</i> (cf. <i>bānā</i>, 'woof'), s.f.\n",
       "\n",
       "Broad-cloth.</p></div2>\n",
       "<div2 id=\"باناتي_बानाती_bānātī,_vulg._bannātī\" type=\"article\">\n",
       "<span class=\"head\"><span class=\"hi\">باناتي बानाती bānātī, vulg. bannātī</span></span>\n",
       "<p>H <pa>باناتي</pa> <d>बानाती</d> <i>bānātī</i>, vulg. <i>bannātī</i>, adj. Made of\n",
       "\n",
       "broad-cloth; woollen.</p></div2>\n",
       "<div2 id=\"بانان_बांआं_bāṅāṅ\" type=\"article\">\n",
       "<span class=\"head\"><span class=\"hi\">بانان बांआं bāṅāṅ</span></span>\n",
       "<p>H <pa>بانان</pa> <d>बांआं</d> <i>bāṅāṅ</i>, adj. Left (hand)=<i>bāmā</i>, <i>bāṅwāṅ</i>,\n",
       "\n",
       "<i>bāyāṅ</i>, q.q.v.</p></div2>\n",
       "<div2 id=\"بانب_बांब_bāṅb,_improp._बाम्ब_bāmb\" type=\"article\">\n",
       "<span class=\"head\"><span class=\"hi\">بانب बांब bāṅb, improp. बाम्ब bāmb</span></span>\n",
       "<p>H <pa>بانب</pa> <d>बांब</d> <i>bāṅb</i>, improp. <d>बाम्ब</d> <i>bāmb</i> [S. <d>वाम</d>; but\n",
       "\n",
       "cf. <i>bāṅbī</i>], s.f.m. (?), Snake; eel (=<i>bām</i>, q.v.):—<i>bāṅt\n",
       "andhūʼā</i>, s.m. Eel.</p></div2>\n",
       "<div2 id=\"بان_بان_बांबां_bāṅ-bāṅ\" type=\"article\">\n",
       "<span class=\"head\"><span class=\"hi\">بان بان बांबां bāṅ-bāṅ</span></span>\n",
       "<p>H <pa>بان بان</pa> <d>बांबां</d> <i>bāṅ-bāṅ</i>, s.f. Prating, jabber, senseless\n",
       "\n",
       "talk:—<i>bāṅ-bāṅ karnā</i>, To prate, talk\n",
       "foolishly, &amp;c.; to blurt out (a secret, &amp;c.); to make a\n",
       "disagreeable noise, bellow, howl.</p></div2>\n",
       "<div2 id=\"بانبهني_बांभनी_bāṅbhnī\" type=\"article\">\n",
       "<span class=\"head\"><span class=\"hi\">بانبهني बांभनी bāṅbhnī</span></span>\n",
       "<p>H <pa>بانبهني</pa> <d>बांभनी</d> <i>bāṅbhnī</i>,\n",
       "\n",
       "<span class=\"equivalentHW\">= H <pa>بانبهي</pa> <d>बांभी</d> <i>bāṅbhī</i>, <d>बांभई</d> <i>bāṅbhaʼī</i>,</span> <span class=\"equivalentHW\">= H <pa>بانبي</pa> <d>बांबी</d> <i>bāṅbī</i>, <d>बांबई</d> <i>bāṅbaʼī</i>,</span> [S. <d>वल्मीक</d>;—cf. S. <d>वाम</d>, and H. <i>bām</i> and <i>bāṅb</i>], s.f. Hillock or ground thrown up by white ants, ant-hill; snake's hole (since ant-hills deserted by ants are commonly taken possession of by snakes).</p></div2>\n",
       "<div2 id=\"بانبهي_बांभी_bāṅbhī,_बांभई_bāṅbhaʼī\" type=\"article\">\n",
       "<span class=\"head\"><span class=\"hi\">بانبهي बांभी bāṅbhī, बांभई bāṅbhaʼī</span></span>\n",
       "<p>H <pa>بانبهي</pa> <d>बांभी</d> <i>bāṅbhī</i>, <d>बांभई</d> <i>bāṅbhaʼī</i>,\n",
       "\n",
       "<span class=\"equivalentHW\">= H <pa>بانبهني</pa> <d>बांभनी</d> <i>bāṅbhnī</i>,</span> <span class=\"equivalentHW\">= H <pa>بانبي</pa> <d>बांबी</d> <i>bāṅbī</i>, <d>बांबई</d> <i>bāṅbaʼī</i>,</span> [S. <d>वल्मीक</d>;—cf. S. <d>वाम</d>, and H. <i>bām</i> and <i>bāṅb</i>], s.f. Hillock or ground thrown up by white ants, ant-hill; snake's hole (since ant-hills deserted by ants are commonly taken possession of by snakes).</p></div2>\n",
       "<div2 id=\"بانبي_बांबी_bāṅbī,_बांबई_bāṅbaʼī\" type=\"article\">\n",
       "<span class=\"head\"><span class=\"hi\">بانبي बांबी bāṅbī, बांबई bāṅbaʼī</span></span>\n",
       "<p>H <pa>بانبي</pa> <d>बांबी</d> <i>bāṅbī</i>, <d>बांबई</d> <i>bāṅbaʼī</i>,\n",
       "\n",
       "<span class=\"equivalentHW\">= H <pa>بانبهني</pa> <d>बांभनी</d> <i>bāṅbhnī</i>,</span> <span class=\"equivalentHW\">= H <pa>بانبهي</pa> <d>बांभी</d> <i>bāṅbhī</i>, <d>बांभई</d> <i>bāṅbhaʼī</i>,</span> [S. <d>वल्मीक</d>;—cf. S. <d>वाम</d>, and H. <i>bām</i> and <i>bāṅb</i>], s.f. Hillock or ground thrown up by white ants, ant-hill; snake's hole (since ant-hills deserted by ants are commonly taken possession of by snakes).</p></div2>\n",
       "<div2 id=\"بان_پرستهہ_बानप्रस्थ_bāna-prasth\" type=\"article\">\n",
       "<span class=\"head\"><span class=\"hi\">بان پرستهہ बानप्रस्थ bāna-prasth</span></span>\n",
       "<p>H <pa>بان پرستهہ</pa> <d>बानप्रस्थ</d> <i>bāna-prasth</i> [S. <d>वान</d>+<d>प्रस्थ</d>], s.m.\n",
       "\n",
       "A <i>Brāhmaṇ</i> of the third order who has passed through\n",
       "the stages of student and householder and has left his\n",
       "house and family for the woods (syn. <i>āsram</i>); hermit, anchorite.</p></div2>\n",
       "<div2 id=\"بانٿ_बांट_bāṅṭ\" type=\"article\">\n",
       "<span class=\"head\"><span class=\"hi\">بانٿ बांट bāṅṭ</span></span>\n",
       "<p>H <pa>بانٿ</pa> <d>बांट</d> <i>bāṅṭ</i>, s.m.=<i>bāṭ</i>, 'a weight,' &amp;c. q.v.</p>\n",
       "</div2>\n",
       "<div2 id=\"بانٿ_बांट_bāṅṭ\" type=\"article\">\n",
       "<span class=\"head\"><span class=\"hi\">بانٿ बांट bāṅṭ</span></span>\n",
       "<p>H <pa>بانٿ</pa> <d>बांट</d> <i>bāṅṭ</i> [S. <d>वण्ट</d>, rt. <d>वण्ट्</d>], s.m.f. Dividing,\n",
       "\n",
       "apportioning; division, distribution (syn. <i>taqsīm</i>); part,\n",
       "portion, share, allotment; dealing, deal (at cards); lot,\n",
       "concern, business;—food given to a cow while milking\n",
       "her:—<i>bāṅṭ-baṭāʼū</i>, s.m. Apportioner, distributer=<i>bāṅṭū</i>;\n",
       "(in Arith.) denominator (syn. <i>nasab-numā</i>):—<i>bāṅṭ-būṅṭ</i>,\n",
       "s.f.=<i>bāṅṭ-ćūṅṭ</i>, q.v.:—<i>bāṅṭ-patra</i>, s.m. Deed or record of\n",
       "division of property (syn. <i>taqsīm-nāma</i>):—<i>bāṅṭ-phal</i>, s.m.\n",
       "(in Arith.), Quotient (syn. <i>ḵẖārij-qismat</i>, and <i>labdhi</i>):—<i>bāṅṭ-ćūṅṭ</i>, s.m.f. Distribution, share, &amp;c.=<i>bāṅt</i>, q.v.</p></div2>\n",
       "<div2 id=\"بانٿا_बांटा_bāṅṭā\" type=\"article\">\n",
       "<span class=\"head\"><span class=\"hi\">بانٿا बांटा bāṅṭā</span></span>\n",
       "<p>H <pa>بانٿا</pa> <d>बांटा</d> <i>bāṅṭā</i> [S. <d>वण्टकः</d>], s.m. Dividing, &amp;c.; share,\n",
       "\n",
       "portion, &amp;c.=<i>bāṅṭ</i>, q.v.;—tying up the crops into bundles and sheaves.</p></div2>\n",
       "<div2 id=\"بانٿا_बांटा_bāṅṭā_part_of_next,_q.v.\" type=\"article\">\n",
       "<span class=\"head\"><span class=\"hi\">بانٿا बांटा bāṅṭā part of next, q.v.</span></span>\n",
       "<p>H <pa>بانٿا</pa> <d>बांटा</d> <i>bāṅṭā</i> (part of next, q.v.), adj. Divided,\n",
       "\n",
       "apportioned, &amp;c.:—<i>bāṅṭā-huʼā</i>, adj.=<i>bāṅṭā</i>;—s.m. (in Arith.), Dividend (also <i>baṭā-huʼā</i>, syn. <i>bhājya</i>,\n",
       "and <i>maqsūm</i>).</p></div2>\n",
       "<div2 id=\"بانٿنا_बांटना_bāṅṭnā\" type=\"article\">\n",
       "<span class=\"head\"><span class=\"hi\">بانٿنا बांटना bāṅṭnā</span></span>\n",
       "<p>H <pa>بانٿنا</pa> <d>बांटना</d> <i>bāṅṭnā</i> [S. <d>वण्टनीयं</d>], v.t. To divide, apportion, distribute, portion out, parcel out, divide into\n",
       "\n",
       "shares; to dispense, dispose of, assign; to participate,\n",
       "go shares in:—<i>bāṅṭ denā</i>, v.t. To divide, portion out (for,\n",
       "or in the name of, -<i>par</i>), &amp;c.=<i>bāṅṭnā</i>, q.v.:—<i>bāṅṭ lenā</i>, v.t.\n",
       "To participate, go shares in, &amp;c.</p></div2>\n",
       "<div2 id=\"بانٿنا_बांटना_bāṅṭnā_caus._of_baṭnā,_q.v.\" type=\"article\">\n",
       "<span class=\"head\"><span class=\"hi\">بانٿنا बांटना bāṅṭnā caus. of baṭnā, q.v.</span></span>\n",
       "<p>H <pa>بانٿنا</pa> <d>बांटना</d> <i>bāṅṭnā</i> (caus. of <i>baṭnā</i>, q.v.), v.t. To twist,\n",
       "\n",
       "twine.</p></div2>\n",
       "<div2 id=\"بانٿو_बांटू_bāṅṭū\" type=\"article\">\n",
       "<span class=\"head\"><span class=\"hi\">بانٿو बांटू bāṅṭū</span></span>\n",
       "<p>H <pa>بانٿو</pa> <d>बांटू</d> <i>bāṅṭū</i> [S. <d>वण्ट</d>+<d>उक</d>], s.m. Divider, apportioner, &amp;c.; (in Arith.), divisor (syn. <i>bhājak</i>, and <i>maqsūm-ilaih</i>).</p>\n",
       "</div2>\n",
       "<div2 id=\"بانٿهنا_बांठना_bāṅṭhnā\" type=\"article\">\n",
       "<span class=\"head\"><span class=\"hi\">بانٿهنا बांठना bāṅṭhnā</span></span>\n",
       "<p>H <pa>بانٿهنا</pa> <d>बांठना</d> <i>bāṅṭhnā</i>, v.t.=<i>bāṅṭnā</i>, 'to divide,' &amp;c.</p>\n",
       "</div2>\n",
       "<div2 id=\"بانج_बांज_bāṅj\" type=\"article\">\n",
       "<span class=\"head\"><span class=\"hi\">بانج बांज bāṅj</span></span>\n",
       "<p>H <pa>بانج</pa> <d>बांज</d> <i>bāṅj</i>, adj. Barren, &amp;c.=<i>bānjh</i>, q.v.</p>\n",
       "</div2>\n",
       "<div2 id=\"بانجر_बांजर_bānjar\" type=\"article\">\n",
       "<span class=\"head\"><span class=\"hi\">بانجر बांजर bānjar</span></span>\n",
       "<p>H <pa>بانجر</pa> <d>बांजर</d> <i>bānjar</i>, adj. Waste or fallow (land);—see <i>banjar</i>.</p>\n",
       "</div2>\n",
       "<div2 id=\"بانجهہ_बांझ_bāṅjh\" type=\"article\">\n",
       "<span class=\"head\"><span class=\"hi\">بانجهہ बांझ bāṅjh</span></span>\n",
       "<p>H <pa>بانجهہ</pa> <d>बांझ</d> <i>bāṅjh</i> [S. <d>बंध्या</d>], adj. Barren (woman); unproductive, sterile (soil).</p>\n",
       "</div2>\n",
       "<div2 id=\"بانجهہ_बांझ_bāṅjh,_bāṅj,_banji\" type=\"article\">\n",
       "<span class=\"head\"><span class=\"hi\">بانجهہ बांझ bāṅjh, bāṅj, banji</span></span>\n",
       "<p>H <pa>بانجهہ</pa> <d>बांझ</d> <i>bāṅjh</i>, <i>bāṅj</i>, <i>banji</i> [S. <d>वन</d>+<d>ज</d>, or <d>वन</d>+<d>राजि</d>], s.m. The tree <i>Quercus incana</i>, or <i>dilatata</i> (common\n",
       "\n",
       "in the outer Himalaya, the acorns of which are commonly made into necklaces for children, and are regarded\n",
       "as a charm against evil spirits).</p></div2>\n",
       "<div2 id=\"بانجيه_बाणिज्य_bāṇijya\" type=\"article\">\n",
       "<span class=\"head\"><span class=\"hi\">بانجيه बाणिज्य bāṇijya</span></span>\n",
       "<p>S <pa>بانجيه</pa> <d>बाणिज्य</d> <i>bāṇijya</i>, s.m. Trade, commerce, merchandise, traffic (=<i>banij</i>, q.v.).</p>\n",
       "</div2>\n",
       "<div2 id=\"بانچکا_बांचका_bāṅćakā\" type=\"article\">\n",
       "<span class=\"head\"><span class=\"hi\">بانچکا बांचका bāṅćakā</span></span>\n",
       "<p>H <pa>بانچکا</pa> <d>बांचका</d> <i>bāṅćakā</i>, s.f. Reading, elocution (see next).</p>\n",
       "</div2>\n",
       "<div2 id=\"بانچنا_बांचना_bāṅćnā\" type=\"article\">\n",
       "<span class=\"head\"><span class=\"hi\">بانچنا बांचना bāṅćnā</span></span>\n",
       "<p>H <pa>بانچنا</pa> <d>बांचना</d> <i>bāṅćnā</i> [<i>bāṅć˚</i> = Prk. <d>वच्च</d>(<d>इ</d>), fr. S. <d>वाच्य</d>], v.t. To\n",
       "\n",
       "read; to study; to decipher, make out.</p></div2>\n",
       "<div2 id=\"بانچنا_बांचना_bāṅćnā_caus._of_baćnā,_q.v.\" type=\"article\">\n",
       "<span class=\"head\"><span class=\"hi\">بانچنا बांचना bāṅćnā caus. of baćnā, q.v.</span></span>\n",
       "<p>H <pa>بانچنا</pa> <d>बांचना</d> <i>bāṅćnā</i> (caus. of <i>baćnā</i>, q.v.), v.t. To\n",
       "\n",
       "pass over, overlook, disregard, neglect;—also (prov.)=<i>baćnā</i>, q.v.</p></div2>\n",
       "<div2 id=\"بانچها_बांछा_bāṅćhā\" type=\"article\">\n",
       "<span class=\"head\"><span class=\"hi\">بانچها बांछा bāṅćhā</span></span>\n",
       "<p>H <pa>بانچها</pa> <d>बांछा</d> <i>bāṅćhā</i> [S. <d>वाञ्छा</d>], s.f. Wish, desire.</p>\n",
       "</div2>\n",
       "<div2 id=\"بانچهت_बांछित_bāṅćhit,_bāṅćhat\" type=\"article\">\n",
       "<span class=\"head\"><span class=\"hi\">بانچهت बांछित bāṅćhit, bāṅćhat</span></span>\n",
       "<p>H <pa>بانچهت</pa> <d>बांछित</d> <i>bāṅćhit</i>, <i>bāṅćhat</i> [S. <d>वाञ्छित</d>],\n",
       "\n",
       "part. adj. Wished for, desired, longed for.</p></div2>\n",
       "<div2 id=\"باچهنا_बांछना_bāṅćhnā\" type=\"article\">\n",
       "<span class=\"head\"><span class=\"hi\">باچهنا बांछना bāṅćhnā</span></span>\n",
       "<p>H <pa>باچهنا</pa> <d>बांछना</d>\n",
       "<i>bāṅćhnā</i> [Prk. <d>वांछणअं</d>=S. <d>वाञ्छनीय</d>, rt. <d>वाञ्छ्</d>], v.n. To wish (for), to desire.</p>\n",
       "</div2>\n",
       "<div2 id=\"باندا_बान्दा_bāṅdā\" type=\"article\">\n",
       "<span class=\"head\"><span class=\"hi\">باندا बान्दा bāṅdā</span></span>\n",
       "<p>H <pa>باندا</pa> <d>बान्दा</d> <i>bāṅdā</i>, s.m. Name of a place in Bundelkhand.</p>\n",
       "</div2>\n",
       "<table width=\"95%\"><tr><td align=\"left\" width=\"50%\"><a href=\"/cgi-bin/philologic/getobject.pl?p.0:124.platts\">Previous page</a><p>\n",
       "</p></td><td align=\"right\" width=\"50%\"></td></tr></table><hr noshade=\"\"/>\n",
       "<div align=\"center\"><font color=\"Navy\" size=\"-1\">\n",
       "<a href=\"http://dsal.uchicago.edu/dictionaries/platts/\">Back to the Search Page </a>\n",
       "  |  \n",
       "<a href=\"http://dsal.uchicago.edu/dictionaries/\">Back to the DDSA Page</a>\n",
       "</font></div>\n",
       "</body></html>"
      ]
     },
     "execution_count": 20,
     "metadata": {},
     "output_type": "execute_result"
    }
   ],
   "source": [
    "content=urlopen(Request(getPageUrl(0,125), headers=requestheaders)).read()\n",
    "BeautifulSoup(content)"
   ]
  },
  {
   "cell_type": "code",
   "execution_count": 22,
   "metadata": {
    "collapsed": false
   },
   "outputs": [
    {
     "data": {
      "text/plain": [
       "'<p><center> -- 0126 -- </center><p>\\n\\ndawn;\\xe2\\x80\\x94bass (in music), &c.=A. <i>bam</i>, q.v.:\\xe2\\x80\\x94<i>b\\xc4\\x81m-d\\xc4\\x81d</i>,\\n<i>b\\xc4\\x81m-d\\xc4\\x81d\\xc4\\x81n</i>, s.f. Morning, dawn;\\xe2\\x80\\x94adv. In the morning.</p></div2>\\n\\n\\n<div2 type=\"article\" id=\"\\xd8\\xa8\\xd8\\xa7\\xd9\\x85\\xd8\\xa8_\\xe0\\xa4\\xac\\xe0\\xa4\\xbe\\xe0\\xa4\\xae\\xe0\\xa5\\x8d\\xe0\\xa4\\xac_b\\xc4\\x81mb-,_properly_\\xd8\\xa8\\xd8\\xa7\\xd9\\x86\\xd8\\xa8_\\xe0\\xa4\\xac\\xe0\\xa4\\xbe\\xe0\\xa4\\x82\\xe0\\xa4\\xac_b\\xc4\\x81\\xe1\\xb9\\x85b-\">\\n<span class=head><span class=hi>\\xd8\\xa8\\xd8\\xa7\\xd9\\x85\\xd8\\xa8 \\xe0\\xa4\\xac\\xe0\\xa4\\xbe\\xe0\\xa4\\xae\\xe0\\xa5\\x8d\\xe0\\xa4\\xac b\\xc4\\x81mb-, properly \\xd8\\xa8\\xd8\\xa7\\xd9\\x86\\xd8\\xa8 \\xe0\\xa4\\xac\\xe0\\xa4\\xbe\\xe0\\xa4\\x82\\xe0\\xa4\\xac b\\xc4\\x81\\xe1\\xb9\\x85b-</span></span>\\n<p>H <pa>\\xd8\\xa8\\xd8\\xa7\\xd9\\x85\\xd8\\xa8</pa> <d>\\xe0\\xa4\\xac\\xe0\\xa4\\xbe\\xe0\\xa4\\xae\\xe0\\xa5\\x8d\\xe0\\xa4\\xac</d> <i>b\\xc4\\x81mb</i>-, properly <pa>\\xd8\\xa8\\xd8\\xa7\\xd9\\x86\\xd8\\xa8</pa> <d>\\xe0\\xa4\\xac\\xe0\\xa4\\xbe\\xe0\\xa4\\x82\\xe0\\xa4\\xac</d> <i>b\\xc4\\x81\\xe1\\xb9\\x85b</i>-, q.v.</p>\\n</div2>\\n\\n\\n<div2 type=\"article\" id=\"\\xd8\\xa8\\xd8\\xa7\\xd9\\x85\\xd9\\x86_\\xe0\\xa4\\xac\\xe0\\xa4\\xbe\\xe0\\xa4\\xae\\xe0\\xa4\\xa8_b\\xc4\\x81man,_sm=br\\xc4\\x81hma\\xe1\\xb9\\x87\">\\n<span class=head><span class=hi>\\xd8\\xa8\\xd8\\xa7\\xd9\\x85\\xd9\\x86 \\xe0\\xa4\\xac\\xe0\\xa4\\xbe\\xe0\\xa4\\xae\\xe0\\xa4\\xa8 b\\xc4\\x81man, sm=br\\xc4\\x81hma\\xe1\\xb9\\x87</span></span>\\n<p>H <pa>\\xd8\\xa8\\xd8\\xa7\\xd9\\x85\\xd9\\x86</pa> <d>\\xe0\\xa4\\xac\\xe0\\xa4\\xbe\\xe0\\xa4\\xae\\xe0\\xa4\\xa8</d> <i>b\\xc4\\x81man</i>, sm=<i>br\\xc4\\x81hma\\xe1\\xb9\\x87</i>, q.v.</p>\\n</div2>\\n\\n\\n<div2 type=\"article\" id=\"\\xd8\\xa8\\xd8\\xa7\\xd9\\x85\\xd9\\x86_\\xe0\\xa4\\xac\\xe0\\xa4\\xbe\\xe0\\xa4\\xae\\xe0\\xa4\\xa8_b\\xc4\\x81man\">\\n<span class=head><span class=hi>\\xd8\\xa8\\xd8\\xa7\\xd9\\x85\\xd9\\x86 \\xe0\\xa4\\xac\\xe0\\xa4\\xbe\\xe0\\xa4\\xae\\xe0\\xa4\\xa8 b\\xc4\\x81man</span></span>\\n<p>H <pa>\\xd8\\xa8\\xd8\\xa7\\xd9\\x85\\xd9\\x86</pa> <d>\\xe0\\xa4\\xac\\xe0\\xa4\\xbe\\xe0\\xa4\\xae\\xe0\\xa4\\xa8</d> <i>b\\xc4\\x81man</i>,\\n\\n<span class=\"equivalentHW\">= H <pa>\\xd8\\xa8\\xd8\\xa7\\xd9\\x85\\xd9\\x86\\xd8\\xa7</pa> <d>\\xe0\\xa4\\xac\\xe0\\xa4\\xbe\\xe0\\xa4\\xae\\xe0\\xa4\\xa8\\xe0\\xa4\\xbe</d> <i>b\\xc4\\x81mn\\xc4\\x81</i>,</span> [S. <d>\\xe0\\xa4\\xb5\\xe0\\xa4\\xbe\\xe0\\xa4\\xae\\xe0\\xa4\\xa8</d>], s.m. Dwarf; the\\nfifth or dwarf-incarnation of\\nthe god Vishnu (undertaken to\\nhumble the pride of the Daitya Bali, who had acquired\\ndominion over the three worlds).</p></div2>\\n\\n\\n<div2 type=\"article\" id=\"\\xd8\\xa8\\xd8\\xa7\\xd9\\x85\\xd9\\x86\\xd8\\xa7_\\xe0\\xa4\\xac\\xe0\\xa4\\xbe\\xe0\\xa4\\xae\\xe0\\xa4\\xa8\\xe0\\xa4\\xbe_b\\xc4\\x81mn\\xc4\\x81\">\\n<span class=head><span class=hi>\\xd8\\xa8\\xd8\\xa7\\xd9\\x85\\xd9\\x86\\xd8\\xa7 \\xe0\\xa4\\xac\\xe0\\xa4\\xbe\\xe0\\xa4\\xae\\xe0\\xa4\\xa8\\xe0\\xa4\\xbe b\\xc4\\x81mn\\xc4\\x81</span></span>\\n<p>H <pa>\\xd8\\xa8\\xd8\\xa7\\xd9\\x85\\xd9\\x86\\xd8\\xa7</pa> <d>\\xe0\\xa4\\xac\\xe0\\xa4\\xbe\\xe0\\xa4\\xae\\xe0\\xa4\\xa8\\xe0\\xa4\\xbe</d> <i>b\\xc4\\x81mn\\xc4\\x81</i>,\\n\\n<span class=\"equivalentHW\">= H <pa>\\xd8\\xa8\\xd8\\xa7\\xd9\\x85\\xd9\\x86</pa> <d>\\xe0\\xa4\\xac\\xe0\\xa4\\xbe\\xe0\\xa4\\xae\\xe0\\xa4\\xa8</d> <i>b\\xc4\\x81man</i>,</span> [S. <d>\\xe0\\xa4\\xb5\\xe0\\xa4\\xbe\\xe0\\xa4\\xae\\xe0\\xa4\\xa8</d>], s.m. Dwarf; the\\nfifth or dwarf-incarnation of\\nthe god Vishnu (undertaken to\\nhumble the pride of the Daitya Bali, who had acquired\\ndominion over the three worlds).</p></div2>\\n\\n\\n<div2 type=\"article\" id=\"\\xd8\\xa8\\xd8\\xa7\\xd9\\x85\\xd9\\x86\\xd9\\x87\\xdb\\x81_\\xe0\\xa4\\xac\\xe0\\xa4\\xbe\\xe0\\xa4\\xae\\xe0\\xa4\\xa8\\xe0\\xa5\\x8d\\xe0\\xa4\\xb9_b\\xc4\\x81manh\">\\n<span class=head><span class=hi>\\xd8\\xa8\\xd8\\xa7\\xd9\\x85\\xd9\\x86\\xd9\\x87\\xdb\\x81 \\xe0\\xa4\\xac\\xe0\\xa4\\xbe\\xe0\\xa4\\xae\\xe0\\xa4\\xa8\\xe0\\xa5\\x8d\\xe0\\xa4\\xb9 b\\xc4\\x81manh</span></span>\\n<p>H <pa>\\xd8\\xa8\\xd8\\xa7\\xd9\\x85\\xd9\\x86\\xd9\\x87\\xdb\\x81</pa> <d>\\xe0\\xa4\\xac\\xe0\\xa4\\xbe\\xe0\\xa4\\xae\\xe0\\xa4\\xa8\\xe0\\xa5\\x8d\\xe0\\xa4\\xb9</d> <i>b\\xc4\\x81manh</i>, s.m.=<i>br\\xc4\\x81hma\\xe1\\xb9\\x87</i>, q.v.</p>\\n</div2>\\n\\n\\n<div2 type=\"article\" id=\"\\xd8\\xa8\\xd8\\xa7\\xd9\\x85\\xd9\\x86_\\xd9\\x87\\xd9\\xbf\\xd9\\x8a_\\xe0\\xa4\\xac\\xe0\\xa4\\xbe\\xe0\\xa4\\xae\\xe0\\xa4\\xa8\\xe0\\xa4\\xb9\\xe0\\xa4\\x9f\\xe0\\xa5\\x8d\\xe0\\xa4\\x9f\\xe0\\xa5\\x80_b\\xc4\\x81man-ha\\xe1\\xb9\\xad\\xe1\\xb9\\xad\\xc4\\xab\">\\n<span class=head><span class=hi>\\xd8\\xa8\\xd8\\xa7\\xd9\\x85\\xd9\\x86 \\xd9\\x87\\xd9\\xbf\\xd9\\x8a \\xe0\\xa4\\xac\\xe0\\xa4\\xbe\\xe0\\xa4\\xae\\xe0\\xa4\\xa8\\xe0\\xa4\\xb9\\xe0\\xa4\\x9f\\xe0\\xa5\\x8d\\xe0\\xa4\\x9f\\xe0\\xa5\\x80 b\\xc4\\x81man-ha\\xe1\\xb9\\xad\\xe1\\xb9\\xad\\xc4\\xab</span></span>\\n<p>H <pa>\\xd8\\xa8\\xd8\\xa7\\xd9\\x85\\xd9\\x86 \\xd9\\x87\\xd9\\xbf\\xd9\\x8a</pa> <d>\\xe0\\xa4\\xac\\xe0\\xa4\\xbe\\xe0\\xa4\\xae\\xe0\\xa4\\xa8\\xe0\\xa4\\xb9\\xe0\\xa4\\x9f\\xe0\\xa5\\x8d\\xe0\\xa4\\x9f\\xe0\\xa5\\x80</d> <i>b\\xc4\\x81man-ha\\xe1\\xb9\\xad\\xe1\\xb9\\xad\\xc4\\xab</i> [S. <d>\\xe0\\xa4\\xac\\xe0\\xa5\\x8d\\xe0\\xa4\\xb0\\xe0\\xa4\\xbe\\xe0\\xa4\\xb9\\xe0\\xa5\\x8d\\xe0\\xa4\\xaf\\xe0\\xa4\\xa3</d>+<d>\\xe0\\xa4\\xaf\\xe0\\xa4\\xb7\\xe0\\xa5\\x8d\\xe0\\xa4\\x9f\\xe0\\xa4\\xbf\\xe0\\xa4\\x95\\xe0\\xa4\\xbe</d>], s.f. The shrub <i>Clerodendrum siphonanthus</i>.</p>\\n</div2>\\n\\n\\n<div2 type=\"article\" id=\"\\xd8\\xa8\\xd8\\xa7\\xd9\\x85\\xd9\\x86\\xd9\\x8a_\\xe0\\xa4\\xac\\xe0\\xa4\\xbe\\xe0\\xa4\\xae\\xe0\\xa4\\xa8\\xe0\\xa5\\x80_b\\xc4\\x81mn\\xc4\\xab\">\\n<span class=head><span class=hi>\\xd8\\xa8\\xd8\\xa7\\xd9\\x85\\xd9\\x86\\xd9\\x8a \\xe0\\xa4\\xac\\xe0\\xa4\\xbe\\xe0\\xa4\\xae\\xe0\\xa4\\xa8\\xe0\\xa5\\x80 b\\xc4\\x81mn\\xc4\\xab</span></span>\\n<p>H <pa>\\xd8\\xa8\\xd8\\xa7\\xd9\\x85\\xd9\\x86\\xd9\\x8a</pa> <d>\\xe0\\xa4\\xac\\xe0\\xa4\\xbe\\xe0\\xa4\\xae\\xe0\\xa4\\xa8\\xe0\\xa5\\x80</d> <i>b\\xc4\\x81mn\\xc4\\xab</i>, s.f.=<i>b\\xc4\\x81mhn\\xc4\\xab</i>, q.v.</p>\\n</div2>\\n\\n\\n<div2 type=\"article\" id=\"\\xd8\\xa8\\xd8\\xa7\\xd9\\x85\\xd9\\x87\\xd9\\x86_\\xe0\\xa4\\xac\\xe0\\xa4\\xbe\\xe0\\xa4\\xae\\xe0\\xa5\\x8d\\xe0\\xa4\\xb9\\xe0\\xa4\\xa8_b\\xc4\\x81mhan\">\\n<span class=head><span class=hi>\\xd8\\xa8\\xd8\\xa7\\xd9\\x85\\xd9\\x87\\xd9\\x86 \\xe0\\xa4\\xac\\xe0\\xa4\\xbe\\xe0\\xa4\\xae\\xe0\\xa5\\x8d\\xe0\\xa4\\xb9\\xe0\\xa4\\xa8 b\\xc4\\x81mhan</span></span>\\n<p>H <pa>\\xd8\\xa8\\xd8\\xa7\\xd9\\x85\\xd9\\x87\\xd9\\x86</pa> <d>\\xe0\\xa4\\xac\\xe0\\xa4\\xbe\\xe0\\xa4\\xae\\xe0\\xa5\\x8d\\xe0\\xa4\\xb9\\xe0\\xa4\\xa8</d> <i>b\\xc4\\x81mhan</i>, s.m.=<i>br\\xc4\\x81hma\\xe1\\xb9\\x87</i>, q.v.</p>\\n</div2>\\n\\n\\n<div2 type=\"article\" id=\"\\xd8\\xa8\\xd8\\xa7\\xd9\\x85\\xd9\\x87\\xd9\\x86\\xd9\\x8a_\\xe0\\xa4\\xac\\xe0\\xa4\\xbe\\xe0\\xa4\\xae\\xe0\\xa5\\x8d\\xe0\\xa4\\xb9\\xe0\\xa4\\xa8\\xe0\\xa5\\x80_b\\xc4\\x81mhn\\xc4\\xab\">\\n<span class=head><span class=hi>\\xd8\\xa8\\xd8\\xa7\\xd9\\x85\\xd9\\x87\\xd9\\x86\\xd9\\x8a \\xe0\\xa4\\xac\\xe0\\xa4\\xbe\\xe0\\xa4\\xae\\xe0\\xa5\\x8d\\xe0\\xa4\\xb9\\xe0\\xa4\\xa8\\xe0\\xa5\\x80 b\\xc4\\x81mhn\\xc4\\xab</span></span>\\n<p>H <pa>\\xd8\\xa8\\xd8\\xa7\\xd9\\x85\\xd9\\x87\\xd9\\x86\\xd9\\x8a</pa> <d>\\xe0\\xa4\\xac\\xe0\\xa4\\xbe\\xe0\\xa4\\xae\\xe0\\xa5\\x8d\\xe0\\xa4\\xb9\\xe0\\xa4\\xa8\\xe0\\xa5\\x80</d> <i>b\\xc4\\x81mhn\\xc4\\xab</i> [S. <d>\\xe0\\xa4\\xac\\xe0\\xa5\\x8d\\xe0\\xa4\\xb0\\xe0\\xa4\\xbe\\xe0\\xa4\\xb9\\xe0\\xa5\\x8d\\xe0\\xa4\\xaf\\xe0\\xa4\\xa3\\xe0\\xa5\\x80</d>], s.f. Wife of a\\n\\n<i>Br\\xc4\\x81hma\\xe1\\xb9\\x87</i>, &c. (see <i>br\\xc4\\x81hma\\xe1\\xb9\\x87\\xc4\\xab</i>); a kind of lizard;\\xe2\\x80\\x94a medicinal herb, the moon-plant, <i>Aselepias acida</i>;\\xe2\\x80\\x94the yellow\\nstamens of the lotus (in contradistinction to <i>\\xc4\\x87am\\xc4\\x81r\\xc4\\xab</i>,\\n\\'black stamens of a flower\\'); a stye on the eye-lid, or a\\ndisease which causes the eyelashes to fall off.</p></div2>\\n\\n\\n<div2 type=\"article\" id=\"\\xd8\\xa8\\xd8\\xa7\\xd9\\x85\\xd9\\x8a_\\xe0\\xa4\\xac\\xe0\\xa4\\xbe\\xe0\\xa4\\xae\\xe0\\xa5\\x80_b\\xc4\\x81m\\xc4\\xab\">\\n<span class=head><span class=hi>\\xd8\\xa8\\xd8\\xa7\\xd9\\x85\\xd9\\x8a \\xe0\\xa4\\xac\\xe0\\xa4\\xbe\\xe0\\xa4\\xae\\xe0\\xa5\\x80 b\\xc4\\x81m\\xc4\\xab</span></span>\\n<p>H <pa>\\xd8\\xa8\\xd8\\xa7\\xd9\\x85\\xd9\\x8a</pa> <d>\\xe0\\xa4\\xac\\xe0\\xa4\\xbe\\xe0\\xa4\\xae\\xe0\\xa5\\x80</d> <i>b\\xc4\\x81m\\xc4\\xab</i>, s.f.=<i>b\\xc4\\x81m</i>, \\'eel,\\' q.v.</p>\\n</div2>\\n\\n\\n<div2 type=\"article\" id=\"\\xd8\\xa8\\xd8\\xa7\\xd9\\x85\\xd9\\x8a_\\xe0\\xa4\\xac\\xe0\\xa4\\xbe\\xe0\\xa4\\xae\\xe0\\xa5\\x80_b\\xc4\\x81m\\xc4\\xab\">\\n<span class=head><span class=hi>\\xd8\\xa8\\xd8\\xa7\\xd9\\x85\\xd9\\x8a \\xe0\\xa4\\xac\\xe0\\xa4\\xbe\\xe0\\xa4\\xae\\xe0\\xa5\\x80 b\\xc4\\x81m\\xc4\\xab</span></span>\\n<p>H <pa>\\xd8\\xa8\\xd8\\xa7\\xd9\\x85\\xd9\\x8a</pa> <d>\\xe0\\xa4\\xac\\xe0\\xa4\\xbe\\xe0\\xa4\\xae\\xe0\\xa5\\x80</d> <i>b\\xc4\\x81m\\xc4\\xab</i>, s.f.=<i>b\\xc4\\x81\\xe1\\xb9\\x85bh\\xc4\\xab</i>, <i>b\\xc4\\x81\\xe1\\xb9\\x85b\\xc4\\xab</i>, q.q.v.</p>\\n</div2>\\n\\n\\n<div2 type=\"article\" id=\"\\xd8\\xa8\\xd8\\xa7\\xd9\\x86_\\xe0\\xa4\\xac\\xe0\\xa4\\xbe\\xe0\\xa4\\xa8_b\\xc4\\x81n\">\\n<span class=head><span class=hi>\\xd8\\xa8\\xd8\\xa7\\xd9\\x86 \\xe0\\xa4\\xac\\xe0\\xa4\\xbe\\xe0\\xa4\\xa8 b\\xc4\\x81n</span></span>\\n<p>H <pa>\\xd8\\xa8\\xd8\\xa7\\xd9\\x86</pa> <d>\\xe0\\xa4\\xac\\xe0\\xa4\\xbe\\xe0\\xa4\\xa8</d> <i>b\\xc4\\x81n</i> [S. <d>\\xe0\\xa4\\xb5\\xe0\\xa4\\xb0\\xe0\\xa5\\x8d\\xe0\\xa4\\xa3\\xe0\\xa4\\x83</d>; Prk. <d>\\xe0\\xa4\\xb5\\xe0\\xa4\\xa3\\xe0\\xa5\\x8d\\xe0\\xa4\\xae\\xe0\\xa5\\x8b</d>], s.f. Quality, property, temper, disposition, nature, character, conduct,\\n\\nmanners, habit, custom (cf. <i>\\xc4\\x81n-b\\xc4\\x81n</i>, s.v. <i>\\xc4\\x81n</i>);\\xe2\\x80\\x94s.m. The\\nmarriage rite which prescribes a certain number of\\nbaths (generally from three to eleven) for the bride and\\nbridegroom:\\xe2\\x80\\x94<i>b\\xc4\\x81n bai\\xe1\\xb9\\xadhn\\xc4\\x81</i>, v.n. To take the baths prescribed by the marriage rite (mentioned above):\\xe2\\x80\\x94<i>b\\xc4\\x81n\\npa\\xe1\\xb9\\x9bn\\xc4\\x81</i>, v.n. To fall into, or to acquire or form, a habit,\\n&c.; to be trained; to be accustomed (to):\\xe2\\x80\\x94<i>b\\xc4\\x81n \\xe1\\xb8\\x8d\\xc4\\x81ln\\xc4\\x81</i>,\\nv.n. To lay the foundation of character, &c., cultivate\\na habit, &c.; to educate, train; to habituate, accustom,\\ninure; to naturalize:\\xe2\\x80\\x94<i>b\\xc4\\x81n s\\xc4\\xabkhn\\xc4\\x81</i>, v.n.=<i>b\\xc4\\x81n pa\\xe1\\xb9\\x9bn\\xc4\\x81</i>.</p></div2>\\n\\n\\n<div2 type=\"article\" id=\"\\xd8\\xa8\\xd8\\xa7\\xd9\\x86_\\xe0\\xa4\\xac\\xe0\\xa4\\xbe\\xe0\\xa4\\xa8_b\\xc4\\x81n\">\\n<span class=head><span class=hi>\\xd8\\xa8\\xd8\\xa7\\xd9\\x86 \\xe0\\xa4\\xac\\xe0\\xa4\\xbe\\xe0\\xa4\\xa8 b\\xc4\\x81n</span></span>\\n<p>H <pa>\\xd8\\xa8\\xd8\\xa7\\xd9\\x86</pa> <d>\\xe0\\xa4\\xac\\xe0\\xa4\\xbe\\xe0\\xa4\\xa8</d> <i>b\\xc4\\x81n</i> [S. <d>\\xe0\\xa4\\xb5\\xe0\\xa4\\xbe\\xe0\\xa4\\xa3</d>], s.m. Reed-shaft, arrow, dart;\\n\\nrocket (for battle), sky-rocket;\\xe2\\x80\\x94the bloody track of a\\nwounded animal;\\xe2\\x80\\x94name of an Asur (son of <i>R\\xc4\\x81j\\xc4\\x81 Bali</i>, an\\nenemy of <i>Vish\\xe1\\xb9\\x87u</i>):\\xe2\\x80\\x94<i>b\\xc4\\x81n-\\xc4\\x81sur</i> (<i>v\\xc4\\x81\\xe1\\xb9\\x87a</i>+<i>asura</i>), s.m. <i>B\\xc4\\x81n</i> the\\nAsur:\\xe2\\x80\\x94<i>b\\xc4\\x81n-d\\xc4\\x81r</i>, <i>b\\xc4\\x81n-w\\xc4\\x81l\\xc4\\x81</i>, s.m. Bowman, archer; rocketeer:\\xe2\\x80\\x94<i>b\\xc4\\x81n-kosh</i>, s.m. Quiver.</p></div2>\\n\\n\\n<div2 type=\"article\" id=\"\\xd8\\xa8\\xd8\\xa7\\xd9\\x86_\\xe0\\xa4\\xac\\xe0\\xa4\\xbe\\xe0\\xa4\\xa8_b\\xc4\\x81n\">\\n<span class=head><span class=hi>\\xd8\\xa8\\xd8\\xa7\\xd9\\x86 \\xe0\\xa4\\xac\\xe0\\xa4\\xbe\\xe0\\xa4\\xa8 b\\xc4\\x81n</span></span>\\n<p>H <pa>\\xd8\\xa8\\xd8\\xa7\\xd9\\x86</pa> <d>\\xe0\\xa4\\xac\\xe0\\xa4\\xbe\\xe0\\xa4\\xa8</d> <i>b\\xc4\\x81n</i> [S. <d>\\xe0\\xa4\\xb5\\xe0\\xa4\\xbe\\xe0\\xa4\\xa8</d>, rt. <d>\\xe0\\xa4\\xb5\\xe0\\xa4\\xbe</d>], s.m. The high tidal\\n\\nwave in Indian rivers commonly called \\'the Bore.\\'</p></div2>\\n\\n\\n<div2 type=\"article\" id=\"\\xd8\\xa8\\xd8\\xa7\\xd9\\x86_\\xe0\\xa4\\xac\\xe0\\xa4\\xbe\\xe0\\xa4\\xa8_b\\xc4\\x81n\">\\n<span class=head><span class=hi>\\xd8\\xa8\\xd8\\xa7\\xd9\\x86 \\xe0\\xa4\\xac\\xe0\\xa4\\xbe\\xe0\\xa4\\xa8 b\\xc4\\x81n</span></span>\\n<p>H <pa>\\xd8\\xa8\\xd8\\xa7\\xd9\\x86</pa> <d>\\xe0\\xa4\\xac\\xe0\\xa4\\xbe\\xe0\\xa4\\xa8</d> <i>b\\xc4\\x81n</i> [S. <d>\\xe0\\xa4\\xb5\\xe0\\xa4\\xbe\\xe0\\xa4\\xa8</d> and <d>\\xe0\\xa4\\xb5\\xe0\\xa4\\xbe\\xe0\\xa4\\xa3</d>, rt. <d>\\xe0\\xa4\\xb5\\xe0\\xa5\\x87</d>], s.m. Rope\\n\\nmade of twisted grass (<i>\\xe1\\xb8\\x8d\\xc4\\x81b</i>), or of <i>m\\xc5\\xab\\xe1\\xb9\\x85j</i> (used for the\\nbottom of beds as well as for other purposes).</p></div2>\\n\\n\\n<div2 type=\"article\" id=\"\\xd8\\xa8\\xd8\\xa7\\xd9\\x86_\\xe0\\xa4\\xac\\xe0\\xa4\\xbe\\xe0\\xa4\\xa8_b\\xc4\\x81n\">\\n<span class=head><span class=hi>\\xd8\\xa8\\xd8\\xa7\\xd9\\x86 \\xe0\\xa4\\xac\\xe0\\xa4\\xbe\\xe0\\xa4\\xa8 b\\xc4\\x81n</span></span>\\n<p>P H <pa>\\xd8\\xa8\\xd8\\xa7\\xd9\\x86</pa> <d>\\xe0\\xa4\\xac\\xe0\\xa4\\xbe\\xe0\\xa4\\xa8</d> <i>b\\xc4\\x81n</i> [S. suff. <d>\\xe0\\xa4\\xb5\\xe0\\xa4\\xbe\\xe0\\xa4\\xa8\\xe0\\xa5\\x8d</d>; <d>\\xe0\\xa4\\xb5\\xe0\\xa4\\xa4\\xe0\\xa5\\x8d</d>], A suffix signifying\\n\\n\\'keeper,\\' \\'man,\\' &c. (e.g. <i>dar-b\\xc4\\x81n</i>, \\'door-keeper\\'; <i>g\\xc4\\x81\\xe1\\xb9\\x9b\\xc4\\xab-b\\xc4\\x81n</i>, \\'cart-man\\'; <i>b\\xc4\\x81g\\xcc\\xa0-b\\xc4\\x81n</i>, \\'garden-er.\\' The suffix is also\\nwritten <i>w\\xc4\\x81n</i>).</p></div2>\\n\\n\\n<div2 type=\"article\" id=\"\\xd8\\xa8\\xd8\\xa7\\xd9\\x86_b\\xc4\\x81n\">\\n<span class=head><span class=hi>\\xd8\\xa8\\xd8\\xa7\\xd9\\x86 b\\xc4\\x81n</span></span>\\n<p>A <pa>\\xd8\\xa8\\xd8\\xa7\\xd9\\x86</pa> <i>b\\xc4\\x81n</i>, s.m. The <i>ben</i>-tree, <i>Hyperanthera moringa</i> (syn.\\n\\n<i>sahajn\\xc4\\x81</i>);\\xe2\\x80\\x94the tree <i>Melia sempervirens</i> (syn. <i>bak\\xc4\\x81\\xca\\xbcin</i>);\\xe2\\x80\\x94the tree which yields Benzoin or Benjamin, <i>Styrax benzoin</i>;\\xe2\\x80\\x94a species of willow, <i>Salix \\xd3\\x94gyptia</i> (Pers. syn. <i>bed-mushk</i>).</p></div2>\\n\\n\\n<div2 type=\"article\" id=\"\\xd8\\xa8\\xd8\\xa7\\xd9\\x86_\\xe0\\xa4\\xac\\xe0\\xa4\\xbe\\xe0\\xa4\\x82_b\\xc4\\x81\\xe1\\xb9\\x85\">\\n<span class=head><span class=hi>\\xd8\\xa8\\xd8\\xa7\\xd9\\x86 \\xe0\\xa4\\xac\\xe0\\xa4\\xbe\\xe0\\xa4\\x82 b\\xc4\\x81\\xe1\\xb9\\x85</span></span>\\n<p>H <pa>\\xd8\\xa8\\xd8\\xa7\\xd9\\x86</pa> <d>\\xe0\\xa4\\xac\\xe0\\xa4\\xbe\\xe0\\xa4\\x82</d> <i>b\\xc4\\x81\\xe1\\xb9\\x85</i>, s.f. 1\\xcb\\x9a=<i>b\\xc4\\x81\\xe1\\xb9\\x85h</i>; 2\\xcb\\x9a adj.=<i>b\\xc4\\x81m</i>, q.q.v.</p>\\n</div2>\\n\\n\\n<div2 type=\"article\" id=\"\\xd8\\xa8\\xd8\\xa7\\xd9\\x86\\xd8\\xa7_\\xe0\\xa4\\xac\\xe0\\xa4\\xbe\\xe0\\xa4\\xa8\\xe0\\xa4\\xbe_b\\xc4\\x81n\\xc4\\x81\">\\n<span class=head><span class=hi>\\xd8\\xa8\\xd8\\xa7\\xd9\\x86\\xd8\\xa7 \\xe0\\xa4\\xac\\xe0\\xa4\\xbe\\xe0\\xa4\\xa8\\xe0\\xa4\\xbe b\\xc4\\x81n\\xc4\\x81</span></span>\\n<p>H <pa>\\xd8\\xa8\\xd8\\xa7\\xd9\\x86\\xd8\\xa7</pa> <d>\\xe0\\xa4\\xac\\xe0\\xa4\\xbe\\xe0\\xa4\\xa8\\xe0\\xa4\\xbe</d> <i>b\\xc4\\x81n\\xc4\\x81</i> [S. <d>\\xe0\\xa4\\xb5\\xe0\\xa4\\xbe\\xe0\\xa4\\xa8</d>, rt. <d>\\xe0\\xa4\\xb5\\xe0\\xa5\\x87</d>+<d>\\xe0\\xa4\\x95\\xe0\\xa4\\x83</d>], s.m. The woof (as\\n\\nopp. to <i>t\\xc4\\x81n\\xc4\\x81</i>, \\'warp\\'); a silken thread used in weaving\\nand sewing, &c.; a kind of hemispherical bucket made of\\niron plates closely riveted together, used in raising\\nwater for irrigation.</p></div2>\\n\\n\\n<div2 type=\"article\" id=\"\\xd8\\xa8\\xd8\\xa7\\xd9\\x86\\xd8\\xa7_\\xe0\\xa4\\xac\\xe0\\xa4\\xbe\\xe0\\xa4\\xa8\\xe0\\xa4\\xbe_b\\xc4\\x81n\\xc4\\x81\">\\n<span class=head><span class=hi>\\xd8\\xa8\\xd8\\xa7\\xd9\\x86\\xd8\\xa7 \\xe0\\xa4\\xac\\xe0\\xa4\\xbe\\xe0\\xa4\\xa8\\xe0\\xa4\\xbe b\\xc4\\x81n\\xc4\\x81</span></span>\\n<p>H <pa>\\xd8\\xa8\\xd8\\xa7\\xd9\\x86\\xd8\\xa7</pa> <d>\\xe0\\xa4\\xac\\xe0\\xa4\\xbe\\xe0\\xa4\\xa8\\xe0\\xa4\\xbe</d> <i>b\\xc4\\x81n\\xc4\\x81</i> [S. <d>\\xe0\\xa4\\xb5\\xe0\\xa4\\xbe\\xe0\\xa4\\xa3</d>, rt. <d>\\xe0\\xa4\\xb5\\xe0\\xa4\\xa3\\xe0\\xa5\\x8d</d>+<d>\\xe0\\xa4\\x95\\xe0\\xa4\\x83</d>], s.m. A kind of\\n\\nrocket; a kind of sword, a sort of <i>pa\\xe1\\xb9\\xad\\xe1\\xb9\\xad\\xc4\\x81</i> with a thick-edged blade and a wooden hilt:\\xe2\\x80\\x94<i>b\\xc4\\x81n\\xc4\\x81 b\\xc4\\x81\\xe1\\xb9\\x85dhn\\xc4\\x81</i>, v.n. To\\nbe armed; to be ready; to be determined:\\xe2\\x80\\x94<i>b\\xc4\\x81n\\xc4\\x81-w\\xc4\\x81l\\xc4\\x81</i>,\\ns.m. Rocket-thrower (cf. <i>b\\xc4\\x81n-d\\xc4\\x81r</i>).</p></div2>\\n\\n\\n<div2 type=\"article\" id=\"\\xd8\\xa8\\xd8\\xa7\\xd9\\x86\\xd8\\xa7_\\xe0\\xa4\\xac\\xe0\\xa4\\xbe\\xe0\\xa4\\xa8\\xe0\\xa4\\xbe_b\\xc4\\x81n\\xc4\\x81\">\\n<span class=head><span class=hi>\\xd8\\xa8\\xd8\\xa7\\xd9\\x86\\xd8\\xa7 \\xe0\\xa4\\xac\\xe0\\xa4\\xbe\\xe0\\xa4\\xa8\\xe0\\xa4\\xbe b\\xc4\\x81n\\xc4\\x81</span></span>\\n<p>H <pa>\\xd8\\xa8\\xd8\\xa7\\xd9\\x86\\xd8\\xa7</pa> <d>\\xe0\\xa4\\xac\\xe0\\xa4\\xbe\\xe0\\xa4\\xa8\\xe0\\xa4\\xbe</d> <i>b\\xc4\\x81n\\xc4\\x81</i> [S. <d>\\xe0\\xa4\\xaa\\xe0\\xa4\\xbe\\xe0\\xa4\\xa3</d>+<d>\\xe0\\xa4\\x95\\xe0\\xa4\\x83</d>], s.m. Stake, bet, wager:\\xe2\\x80\\x94<i>b\\xc4\\x81n\\xc4\\x81 b\\xc4\\x81\\xe1\\xb9\\x85dhn\\xc4\\x81</i>, v.n. To stake, bet, wager (syn. <i>budn\\xc4\\x81</i>).</p>\\n</div2>\\n\\n\\n<div2 type=\"article\" id=\"\\xd8\\xa8\\xd8\\xa7\\xd9\\x86\\xd8\\xa7_\\xe0\\xa4\\xac\\xe0\\xa4\\xbe\\xe0\\xa4\\xa8\\xe0\\xa4\\xbe_b\\xc4\\x81n\\xc4\\x81\">\\n<span class=head><span class=hi>\\xd8\\xa8\\xd8\\xa7\\xd9\\x86\\xd8\\xa7 \\xe0\\xa4\\xac\\xe0\\xa4\\xbe\\xe0\\xa4\\xa8\\xe0\\xa4\\xbe b\\xc4\\x81n\\xc4\\x81</span></span>\\n<p>H <pa>\\xd8\\xa8\\xd8\\xa7\\xd9\\x86\\xd8\\xa7</pa> <d>\\xe0\\xa4\\xac\\xe0\\xa4\\xbe\\xe0\\xa4\\xa8\\xe0\\xa4\\xbe</d> <i>b\\xc4\\x81n\\xc4\\x81</i> [S. <d>\\xe0\\xa4\\xb5\\xe0\\xa4\\xb0\\xe0\\xa5\\x8d\\xe0\\xa4\\xa3</d>+<d>\\xe0\\xa4\\x95\\xe0\\xa4\\x83</d>; Prk.  <d>\\xe0\\xa4\\xb5\\xe0\\xa4\\xa3\\xe0\\xa5\\x8d\\xe0\\xa4\\xae\\xe0\\xa4\\x95\\xe0\\xa5\\x8b</d>], s.m. Appearance, form, shape, colour; property, habit, peculiarity; profession, caste, sect, class; veil, covering;\\n\\ndress, garment, costume, fashion or style of dress;\\nuniform, livery; mask, disguise:\\xe2\\x80\\x94<i>b\\xc4\\x81n\\xc4\\x81 badaln\\xc4\\x81</i>, v.n. To\\nchange (one\\'s) dress; to disguise oneself (syn. <i>bhes badaln\\xc4\\x81</i>).</p></div2>\\n\\n\\n<div2 type=\"article\" id=\"\\xd8\\xa8\\xd8\\xa7\\xd9\\x86\\xd8\\xa7_\\xe0\\xa4\\xac\\xe0\\xa4\\xbe\\xe0\\xa4\\xa8\\xe0\\xa4\\xbe_b\\xc4\\x81n\\xc4\\x81\">\\n<span class=head><span class=hi>\\xd8\\xa8\\xd8\\xa7\\xd9\\x86\\xd8\\xa7 \\xe0\\xa4\\xac\\xe0\\xa4\\xbe\\xe0\\xa4\\xa8\\xe0\\xa4\\xbe b\\xc4\\x81n\\xc4\\x81</span></span>\\n<p>H <pa>\\xd8\\xa8\\xd8\\xa7\\xd9\\x86\\xd8\\xa7</pa> <d>\\xe0\\xa4\\xac\\xe0\\xa4\\xbe\\xe0\\xa4\\xa8\\xe0\\xa4\\xbe</d> <i>b\\xc4\\x81n\\xc4\\x81</i> [S. <d>\\xe0\\xa4\\xb5\\xe0\\xa4\\xb9\\xe0\\xa4\\xa8</d>, rt. <d>\\xe0\\xa4\\xb5\\xe0\\xa4\\xb9</d>; cf. <i>b\\xc4\\x81hn\\xc4\\x81</i>, v.n. To\\n\\n\\nopen, unfold, streten, spread; to cast;\\xe2\\x80\\x94v.n. To open\\n(=<i>khuln\\xc4\\x81</i>); to burst open, split (=<i>pha\\xe1\\xb9\\xadn\\xc4\\x81</i>).</p></div2>\\n\\n\\n<div2 type=\"article\" id=\"\\xd8\\xa8\\xd8\\xa7\\xd9\\x86\\xd8\\xa7\\xd8\\xaa_\\xe0\\xa4\\xac\\xe0\\xa4\\xbe\\xe0\\xa4\\xa8\\xe0\\xa4\\xbe\\xe0\\xa4\\xa4_b\\xc4\\x81n\\xc4\\x81t,_vulg._ban\\xc4\\x81t_cf._b\\xc4\\x81n\\xc4\\x81,_\\'woof\\'\">\\n<span class=head><span class=hi>\\xd8\\xa8\\xd8\\xa7\\xd9\\x86\\xd8\\xa7\\xd8\\xaa \\xe0\\xa4\\xac\\xe0\\xa4\\xbe\\xe0\\xa4\\xa8\\xe0\\xa4\\xbe\\xe0\\xa4\\xa4 b\\xc4\\x81n\\xc4\\x81t, vulg. ban\\xc4\\x81t cf. b\\xc4\\x81n\\xc4\\x81, \\'woof\\'</span></span>\\n<p>H <pa>\\xd8\\xa8\\xd8\\xa7\\xd9\\x86\\xd8\\xa7\\xd8\\xaa</pa> <d>\\xe0\\xa4\\xac\\xe0\\xa4\\xbe\\xe0\\xa4\\xa8\\xe0\\xa4\\xbe\\xe0\\xa4\\xa4</d> <i>b\\xc4\\x81n\\xc4\\x81t</i>, vulg. <i>ban\\xc4\\x81t</i> (cf. <i>b\\xc4\\x81n\\xc4\\x81</i>, \\'woof\\'), s.f.\\n\\nBroad-cloth.</p></div2>\\n\\n\\n<div2 type=\"article\" id=\"\\xd8\\xa8\\xd8\\xa7\\xd9\\x86\\xd8\\xa7\\xd8\\xaa\\xd9\\x8a_\\xe0\\xa4\\xac\\xe0\\xa4\\xbe\\xe0\\xa4\\xa8\\xe0\\xa4\\xbe\\xe0\\xa4\\xa4\\xe0\\xa5\\x80_b\\xc4\\x81n\\xc4\\x81t\\xc4\\xab,_vulg._bann\\xc4\\x81t\\xc4\\xab\">\\n<span class=head><span class=hi>\\xd8\\xa8\\xd8\\xa7\\xd9\\x86\\xd8\\xa7\\xd8\\xaa\\xd9\\x8a \\xe0\\xa4\\xac\\xe0\\xa4\\xbe\\xe0\\xa4\\xa8\\xe0\\xa4\\xbe\\xe0\\xa4\\xa4\\xe0\\xa5\\x80 b\\xc4\\x81n\\xc4\\x81t\\xc4\\xab, vulg. bann\\xc4\\x81t\\xc4\\xab</span></span>\\n<p>H <pa>\\xd8\\xa8\\xd8\\xa7\\xd9\\x86\\xd8\\xa7\\xd8\\xaa\\xd9\\x8a</pa> <d>\\xe0\\xa4\\xac\\xe0\\xa4\\xbe\\xe0\\xa4\\xa8\\xe0\\xa4\\xbe\\xe0\\xa4\\xa4\\xe0\\xa5\\x80</d> <i>b\\xc4\\x81n\\xc4\\x81t\\xc4\\xab</i>, vulg. <i>bann\\xc4\\x81t\\xc4\\xab</i>, adj. Made of\\n\\nbroad-cloth; woollen.</p></div2>\\n\\n\\n<div2 type=\"article\" id=\"\\xd8\\xa8\\xd8\\xa7\\xd9\\x86\\xd8\\xa7\\xd9\\x86_\\xe0\\xa4\\xac\\xe0\\xa4\\xbe\\xe0\\xa4\\x82\\xe0\\xa4\\x86\\xe0\\xa4\\x82_b\\xc4\\x81\\xe1\\xb9\\x85\\xc4\\x81\\xe1\\xb9\\x85\">\\n<span class=head><span class=hi>\\xd8\\xa8\\xd8\\xa7\\xd9\\x86\\xd8\\xa7\\xd9\\x86 \\xe0\\xa4\\xac\\xe0\\xa4\\xbe\\xe0\\xa4\\x82\\xe0\\xa4\\x86\\xe0\\xa4\\x82 b\\xc4\\x81\\xe1\\xb9\\x85\\xc4\\x81\\xe1\\xb9\\x85</span></span>\\n<p>H <pa>\\xd8\\xa8\\xd8\\xa7\\xd9\\x86\\xd8\\xa7\\xd9\\x86</pa> <d>\\xe0\\xa4\\xac\\xe0\\xa4\\xbe\\xe0\\xa4\\x82\\xe0\\xa4\\x86\\xe0\\xa4\\x82</d> <i>b\\xc4\\x81\\xe1\\xb9\\x85\\xc4\\x81\\xe1\\xb9\\x85</i>, adj. Left (hand)=<i>b\\xc4\\x81m\\xc4\\x81</i>, <i>b\\xc4\\x81\\xe1\\xb9\\x85w\\xc4\\x81\\xe1\\xb9\\x85</i>,\\n\\n<i>b\\xc4\\x81y\\xc4\\x81\\xe1\\xb9\\x85</i>, q.q.v.</p></div2>\\n\\n\\n<div2 type=\"article\" id=\"\\xd8\\xa8\\xd8\\xa7\\xd9\\x86\\xd8\\xa8_\\xe0\\xa4\\xac\\xe0\\xa4\\xbe\\xe0\\xa4\\x82\\xe0\\xa4\\xac_b\\xc4\\x81\\xe1\\xb9\\x85b,_improp._\\xe0\\xa4\\xac\\xe0\\xa4\\xbe\\xe0\\xa4\\xae\\xe0\\xa5\\x8d\\xe0\\xa4\\xac_b\\xc4\\x81mb\">\\n<span class=head><span class=hi>\\xd8\\xa8\\xd8\\xa7\\xd9\\x86\\xd8\\xa8 \\xe0\\xa4\\xac\\xe0\\xa4\\xbe\\xe0\\xa4\\x82\\xe0\\xa4\\xac b\\xc4\\x81\\xe1\\xb9\\x85b, improp. \\xe0\\xa4\\xac\\xe0\\xa4\\xbe\\xe0\\xa4\\xae\\xe0\\xa5\\x8d\\xe0\\xa4\\xac b\\xc4\\x81mb</span></span>\\n<p>H <pa>\\xd8\\xa8\\xd8\\xa7\\xd9\\x86\\xd8\\xa8</pa> <d>\\xe0\\xa4\\xac\\xe0\\xa4\\xbe\\xe0\\xa4\\x82\\xe0\\xa4\\xac</d> <i>b\\xc4\\x81\\xe1\\xb9\\x85b</i>, improp. <d>\\xe0\\xa4\\xac\\xe0\\xa4\\xbe\\xe0\\xa4\\xae\\xe0\\xa5\\x8d\\xe0\\xa4\\xac</d> <i>b\\xc4\\x81mb</i> [S. <d>\\xe0\\xa4\\xb5\\xe0\\xa4\\xbe\\xe0\\xa4\\xae</d>; but\\n\\ncf. <i>b\\xc4\\x81\\xe1\\xb9\\x85b\\xc4\\xab</i>], s.f.m. (?), Snake; eel (=<i>b\\xc4\\x81m</i>, q.v.):\\xe2\\x80\\x94<i>b\\xc4\\x81\\xe1\\xb9\\x85t\\nandh\\xc5\\xab\\xca\\xbc\\xc4\\x81</i>, s.m. Eel.</p></div2>\\n\\n\\n<div2 type=\"article\" id=\"\\xd8\\xa8\\xd8\\xa7\\xd9\\x86_\\xd8\\xa8\\xd8\\xa7\\xd9\\x86_\\xe0\\xa4\\xac\\xe0\\xa4\\xbe\\xe0\\xa4\\x82\\xe0\\xa4\\xac\\xe0\\xa4\\xbe\\xe0\\xa4\\x82_b\\xc4\\x81\\xe1\\xb9\\x85-b\\xc4\\x81\\xe1\\xb9\\x85\">\\n<span class=head><span class=hi>\\xd8\\xa8\\xd8\\xa7\\xd9\\x86 \\xd8\\xa8\\xd8\\xa7\\xd9\\x86 \\xe0\\xa4\\xac\\xe0\\xa4\\xbe\\xe0\\xa4\\x82\\xe0\\xa4\\xac\\xe0\\xa4\\xbe\\xe0\\xa4\\x82 b\\xc4\\x81\\xe1\\xb9\\x85-b\\xc4\\x81\\xe1\\xb9\\x85</span></span>\\n<p>H <pa>\\xd8\\xa8\\xd8\\xa7\\xd9\\x86 \\xd8\\xa8\\xd8\\xa7\\xd9\\x86</pa> <d>\\xe0\\xa4\\xac\\xe0\\xa4\\xbe\\xe0\\xa4\\x82\\xe0\\xa4\\xac\\xe0\\xa4\\xbe\\xe0\\xa4\\x82</d> <i>b\\xc4\\x81\\xe1\\xb9\\x85-b\\xc4\\x81\\xe1\\xb9\\x85</i>, s.f. Prating, jabber, senseless\\n\\ntalk:\\xe2\\x80\\x94<i>b\\xc4\\x81\\xe1\\xb9\\x85-b\\xc4\\x81\\xe1\\xb9\\x85 karn\\xc4\\x81</i>, To prate, talk\\nfoolishly, &c.; to blurt out (a secret, &c.); to make a\\ndisagreeable noise, bellow, howl.</p></div2>\\n\\n\\n<div2 type=\"article\" id=\"\\xd8\\xa8\\xd8\\xa7\\xd9\\x86\\xd8\\xa8\\xd9\\x87\\xd9\\x86\\xd9\\x8a_\\xe0\\xa4\\xac\\xe0\\xa4\\xbe\\xe0\\xa4\\x82\\xe0\\xa4\\xad\\xe0\\xa4\\xa8\\xe0\\xa5\\x80_b\\xc4\\x81\\xe1\\xb9\\x85bhn\\xc4\\xab\">\\n<span class=head><span class=hi>\\xd8\\xa8\\xd8\\xa7\\xd9\\x86\\xd8\\xa8\\xd9\\x87\\xd9\\x86\\xd9\\x8a \\xe0\\xa4\\xac\\xe0\\xa4\\xbe\\xe0\\xa4\\x82\\xe0\\xa4\\xad\\xe0\\xa4\\xa8\\xe0\\xa5\\x80 b\\xc4\\x81\\xe1\\xb9\\x85bhn\\xc4\\xab</span></span>\\n<p>H <pa>\\xd8\\xa8\\xd8\\xa7\\xd9\\x86\\xd8\\xa8\\xd9\\x87\\xd9\\x86\\xd9\\x8a</pa> <d>\\xe0\\xa4\\xac\\xe0\\xa4\\xbe\\xe0\\xa4\\x82\\xe0\\xa4\\xad\\xe0\\xa4\\xa8\\xe0\\xa5\\x80</d> <i>b\\xc4\\x81\\xe1\\xb9\\x85bhn\\xc4\\xab</i>,\\n\\n<span class=\"equivalentHW\">= H <pa>\\xd8\\xa8\\xd8\\xa7\\xd9\\x86\\xd8\\xa8\\xd9\\x87\\xd9\\x8a</pa> <d>\\xe0\\xa4\\xac\\xe0\\xa4\\xbe\\xe0\\xa4\\x82\\xe0\\xa4\\xad\\xe0\\xa5\\x80</d> <i>b\\xc4\\x81\\xe1\\xb9\\x85bh\\xc4\\xab</i>, <d>\\xe0\\xa4\\xac\\xe0\\xa4\\xbe\\xe0\\xa4\\x82\\xe0\\xa4\\xad\\xe0\\xa4\\x88</d> <i>b\\xc4\\x81\\xe1\\xb9\\x85bha\\xca\\xbc\\xc4\\xab</i>,</span> <span class=\"equivalentHW\">= H <pa>\\xd8\\xa8\\xd8\\xa7\\xd9\\x86\\xd8\\xa8\\xd9\\x8a</pa> <d>\\xe0\\xa4\\xac\\xe0\\xa4\\xbe\\xe0\\xa4\\x82\\xe0\\xa4\\xac\\xe0\\xa5\\x80</d> <i>b\\xc4\\x81\\xe1\\xb9\\x85b\\xc4\\xab</i>, <d>\\xe0\\xa4\\xac\\xe0\\xa4\\xbe\\xe0\\xa4\\x82\\xe0\\xa4\\xac\\xe0\\xa4\\x88</d> <i>b\\xc4\\x81\\xe1\\xb9\\x85ba\\xca\\xbc\\xc4\\xab</i>,</span> [S. <d>\\xe0\\xa4\\xb5\\xe0\\xa4\\xb2\\xe0\\xa5\\x8d\\xe0\\xa4\\xae\\xe0\\xa5\\x80\\xe0\\xa4\\x95</d>;\\xe2\\x80\\x94cf. S. <d>\\xe0\\xa4\\xb5\\xe0\\xa4\\xbe\\xe0\\xa4\\xae</d>, and H. <i>b\\xc4\\x81m</i> and <i>b\\xc4\\x81\\xe1\\xb9\\x85b</i>], s.f. Hillock or ground thrown up by white ants, ant-hill; snake\\'s hole (since ant-hills deserted by ants are commonly taken possession of by snakes).</p></div2>\\n\\n\\n<div2 type=\"article\" id=\"\\xd8\\xa8\\xd8\\xa7\\xd9\\x86\\xd8\\xa8\\xd9\\x87\\xd9\\x8a_\\xe0\\xa4\\xac\\xe0\\xa4\\xbe\\xe0\\xa4\\x82\\xe0\\xa4\\xad\\xe0\\xa5\\x80_b\\xc4\\x81\\xe1\\xb9\\x85bh\\xc4\\xab,_\\xe0\\xa4\\xac\\xe0\\xa4\\xbe\\xe0\\xa4\\x82\\xe0\\xa4\\xad\\xe0\\xa4\\x88_b\\xc4\\x81\\xe1\\xb9\\x85bha\\xca\\xbc\\xc4\\xab\">\\n<span class=head><span class=hi>\\xd8\\xa8\\xd8\\xa7\\xd9\\x86\\xd8\\xa8\\xd9\\x87\\xd9\\x8a \\xe0\\xa4\\xac\\xe0\\xa4\\xbe\\xe0\\xa4\\x82\\xe0\\xa4\\xad\\xe0\\xa5\\x80 b\\xc4\\x81\\xe1\\xb9\\x85bh\\xc4\\xab, \\xe0\\xa4\\xac\\xe0\\xa4\\xbe\\xe0\\xa4\\x82\\xe0\\xa4\\xad\\xe0\\xa4\\x88 b\\xc4\\x81\\xe1\\xb9\\x85bha\\xca\\xbc\\xc4\\xab</span></span>\\n<p>H <pa>\\xd8\\xa8\\xd8\\xa7\\xd9\\x86\\xd8\\xa8\\xd9\\x87\\xd9\\x8a</pa> <d>\\xe0\\xa4\\xac\\xe0\\xa4\\xbe\\xe0\\xa4\\x82\\xe0\\xa4\\xad\\xe0\\xa5\\x80</d> <i>b\\xc4\\x81\\xe1\\xb9\\x85bh\\xc4\\xab</i>, <d>\\xe0\\xa4\\xac\\xe0\\xa4\\xbe\\xe0\\xa4\\x82\\xe0\\xa4\\xad\\xe0\\xa4\\x88</d> <i>b\\xc4\\x81\\xe1\\xb9\\x85bha\\xca\\xbc\\xc4\\xab</i>,\\n\\n<span class=\"equivalentHW\">= H <pa>\\xd8\\xa8\\xd8\\xa7\\xd9\\x86\\xd8\\xa8\\xd9\\x87\\xd9\\x86\\xd9\\x8a</pa> <d>\\xe0\\xa4\\xac\\xe0\\xa4\\xbe\\xe0\\xa4\\x82\\xe0\\xa4\\xad\\xe0\\xa4\\xa8\\xe0\\xa5\\x80</d> <i>b\\xc4\\x81\\xe1\\xb9\\x85bhn\\xc4\\xab</i>,</span> <span class=\"equivalentHW\">= H <pa>\\xd8\\xa8\\xd8\\xa7\\xd9\\x86\\xd8\\xa8\\xd9\\x8a</pa> <d>\\xe0\\xa4\\xac\\xe0\\xa4\\xbe\\xe0\\xa4\\x82\\xe0\\xa4\\xac\\xe0\\xa5\\x80</d> <i>b\\xc4\\x81\\xe1\\xb9\\x85b\\xc4\\xab</i>, <d>\\xe0\\xa4\\xac\\xe0\\xa4\\xbe\\xe0\\xa4\\x82\\xe0\\xa4\\xac\\xe0\\xa4\\x88</d> <i>b\\xc4\\x81\\xe1\\xb9\\x85ba\\xca\\xbc\\xc4\\xab</i>,</span> [S. <d>\\xe0\\xa4\\xb5\\xe0\\xa4\\xb2\\xe0\\xa5\\x8d\\xe0\\xa4\\xae\\xe0\\xa5\\x80\\xe0\\xa4\\x95</d>;\\xe2\\x80\\x94cf. S. <d>\\xe0\\xa4\\xb5\\xe0\\xa4\\xbe\\xe0\\xa4\\xae</d>, and H. <i>b\\xc4\\x81m</i> and <i>b\\xc4\\x81\\xe1\\xb9\\x85b</i>], s.f. Hillock or ground thrown up by white ants, ant-hill; snake\\'s hole (since ant-hills deserted by ants are commonly taken possession of by snakes).</p></div2>\\n\\n\\n<div2 type=\"article\" id=\"\\xd8\\xa8\\xd8\\xa7\\xd9\\x86\\xd8\\xa8\\xd9\\x8a_\\xe0\\xa4\\xac\\xe0\\xa4\\xbe\\xe0\\xa4\\x82\\xe0\\xa4\\xac\\xe0\\xa5\\x80_b\\xc4\\x81\\xe1\\xb9\\x85b\\xc4\\xab,_\\xe0\\xa4\\xac\\xe0\\xa4\\xbe\\xe0\\xa4\\x82\\xe0\\xa4\\xac\\xe0\\xa4\\x88_b\\xc4\\x81\\xe1\\xb9\\x85ba\\xca\\xbc\\xc4\\xab\">\\n<span class=head><span class=hi>\\xd8\\xa8\\xd8\\xa7\\xd9\\x86\\xd8\\xa8\\xd9\\x8a \\xe0\\xa4\\xac\\xe0\\xa4\\xbe\\xe0\\xa4\\x82\\xe0\\xa4\\xac\\xe0\\xa5\\x80 b\\xc4\\x81\\xe1\\xb9\\x85b\\xc4\\xab, \\xe0\\xa4\\xac\\xe0\\xa4\\xbe\\xe0\\xa4\\x82\\xe0\\xa4\\xac\\xe0\\xa4\\x88 b\\xc4\\x81\\xe1\\xb9\\x85ba\\xca\\xbc\\xc4\\xab</span></span>\\n<p>H <pa>\\xd8\\xa8\\xd8\\xa7\\xd9\\x86\\xd8\\xa8\\xd9\\x8a</pa> <d>\\xe0\\xa4\\xac\\xe0\\xa4\\xbe\\xe0\\xa4\\x82\\xe0\\xa4\\xac\\xe0\\xa5\\x80</d> <i>b\\xc4\\x81\\xe1\\xb9\\x85b\\xc4\\xab</i>, <d>\\xe0\\xa4\\xac\\xe0\\xa4\\xbe\\xe0\\xa4\\x82\\xe0\\xa4\\xac\\xe0\\xa4\\x88</d> <i>b\\xc4\\x81\\xe1\\xb9\\x85ba\\xca\\xbc\\xc4\\xab</i>,\\n\\n<span class=\"equivalentHW\">= H <pa>\\xd8\\xa8\\xd8\\xa7\\xd9\\x86\\xd8\\xa8\\xd9\\x87\\xd9\\x86\\xd9\\x8a</pa> <d>\\xe0\\xa4\\xac\\xe0\\xa4\\xbe\\xe0\\xa4\\x82\\xe0\\xa4\\xad\\xe0\\xa4\\xa8\\xe0\\xa5\\x80</d> <i>b\\xc4\\x81\\xe1\\xb9\\x85bhn\\xc4\\xab</i>,</span> <span class=\"equivalentHW\">= H <pa>\\xd8\\xa8\\xd8\\xa7\\xd9\\x86\\xd8\\xa8\\xd9\\x87\\xd9\\x8a</pa> <d>\\xe0\\xa4\\xac\\xe0\\xa4\\xbe\\xe0\\xa4\\x82\\xe0\\xa4\\xad\\xe0\\xa5\\x80</d> <i>b\\xc4\\x81\\xe1\\xb9\\x85bh\\xc4\\xab</i>, <d>\\xe0\\xa4\\xac\\xe0\\xa4\\xbe\\xe0\\xa4\\x82\\xe0\\xa4\\xad\\xe0\\xa4\\x88</d> <i>b\\xc4\\x81\\xe1\\xb9\\x85bha\\xca\\xbc\\xc4\\xab</i>,</span> [S. <d>\\xe0\\xa4\\xb5\\xe0\\xa4\\xb2\\xe0\\xa5\\x8d\\xe0\\xa4\\xae\\xe0\\xa5\\x80\\xe0\\xa4\\x95</d>;\\xe2\\x80\\x94cf. S. <d>\\xe0\\xa4\\xb5\\xe0\\xa4\\xbe\\xe0\\xa4\\xae</d>, and H. <i>b\\xc4\\x81m</i> and <i>b\\xc4\\x81\\xe1\\xb9\\x85b</i>], s.f. Hillock or ground thrown up by white ants, ant-hill; snake\\'s hole (since ant-hills deserted by ants are commonly taken possession of by snakes).</p></div2>\\n\\n\\n<div2 type=\"article\" id=\"\\xd8\\xa8\\xd8\\xa7\\xd9\\x86_\\xd9\\xbe\\xd8\\xb1\\xd8\\xb3\\xd8\\xaa\\xd9\\x87\\xdb\\x81_\\xe0\\xa4\\xac\\xe0\\xa4\\xbe\\xe0\\xa4\\xa8\\xe0\\xa4\\xaa\\xe0\\xa5\\x8d\\xe0\\xa4\\xb0\\xe0\\xa4\\xb8\\xe0\\xa5\\x8d\\xe0\\xa4\\xa5_b\\xc4\\x81na-prasth\">\\n<span class=head><span class=hi>\\xd8\\xa8\\xd8\\xa7\\xd9\\x86 \\xd9\\xbe\\xd8\\xb1\\xd8\\xb3\\xd8\\xaa\\xd9\\x87\\xdb\\x81 \\xe0\\xa4\\xac\\xe0\\xa4\\xbe\\xe0\\xa4\\xa8\\xe0\\xa4\\xaa\\xe0\\xa5\\x8d\\xe0\\xa4\\xb0\\xe0\\xa4\\xb8\\xe0\\xa5\\x8d\\xe0\\xa4\\xa5 b\\xc4\\x81na-prasth</span></span>\\n<p>H <pa>\\xd8\\xa8\\xd8\\xa7\\xd9\\x86 \\xd9\\xbe\\xd8\\xb1\\xd8\\xb3\\xd8\\xaa\\xd9\\x87\\xdb\\x81</pa> <d>\\xe0\\xa4\\xac\\xe0\\xa4\\xbe\\xe0\\xa4\\xa8\\xe0\\xa4\\xaa\\xe0\\xa5\\x8d\\xe0\\xa4\\xb0\\xe0\\xa4\\xb8\\xe0\\xa5\\x8d\\xe0\\xa4\\xa5</d> <i>b\\xc4\\x81na-prasth</i> [S. <d>\\xe0\\xa4\\xb5\\xe0\\xa4\\xbe\\xe0\\xa4\\xa8</d>+<d>\\xe0\\xa4\\xaa\\xe0\\xa5\\x8d\\xe0\\xa4\\xb0\\xe0\\xa4\\xb8\\xe0\\xa5\\x8d\\xe0\\xa4\\xa5</d>], s.m.\\n\\nA <i>Br\\xc4\\x81hma\\xe1\\xb9\\x87</i> of the third order who has passed through\\nthe stages of student and householder and has left his\\nhouse and family for the woods (syn. <i>\\xc4\\x81sram</i>); hermit, anchorite.</p></div2>\\n\\n\\n<div2 type=\"article\" id=\"\\xd8\\xa8\\xd8\\xa7\\xd9\\x86\\xd9\\xbf_\\xe0\\xa4\\xac\\xe0\\xa4\\xbe\\xe0\\xa4\\x82\\xe0\\xa4\\x9f_b\\xc4\\x81\\xe1\\xb9\\x85\\xe1\\xb9\\xad\">\\n<span class=head><span class=hi>\\xd8\\xa8\\xd8\\xa7\\xd9\\x86\\xd9\\xbf \\xe0\\xa4\\xac\\xe0\\xa4\\xbe\\xe0\\xa4\\x82\\xe0\\xa4\\x9f b\\xc4\\x81\\xe1\\xb9\\x85\\xe1\\xb9\\xad</span></span>\\n<p>H <pa>\\xd8\\xa8\\xd8\\xa7\\xd9\\x86\\xd9\\xbf</pa> <d>\\xe0\\xa4\\xac\\xe0\\xa4\\xbe\\xe0\\xa4\\x82\\xe0\\xa4\\x9f</d> <i>b\\xc4\\x81\\xe1\\xb9\\x85\\xe1\\xb9\\xad</i>, s.m.=<i>b\\xc4\\x81\\xe1\\xb9\\xad</i>, \\'a weight,\\' &c. q.v.</p>\\n</div2>\\n\\n\\n<div2 type=\"article\" id=\"\\xd8\\xa8\\xd8\\xa7\\xd9\\x86\\xd9\\xbf_\\xe0\\xa4\\xac\\xe0\\xa4\\xbe\\xe0\\xa4\\x82\\xe0\\xa4\\x9f_b\\xc4\\x81\\xe1\\xb9\\x85\\xe1\\xb9\\xad\">\\n<span class=head><span class=hi>\\xd8\\xa8\\xd8\\xa7\\xd9\\x86\\xd9\\xbf \\xe0\\xa4\\xac\\xe0\\xa4\\xbe\\xe0\\xa4\\x82\\xe0\\xa4\\x9f b\\xc4\\x81\\xe1\\xb9\\x85\\xe1\\xb9\\xad</span></span>\\n<p>H <pa>\\xd8\\xa8\\xd8\\xa7\\xd9\\x86\\xd9\\xbf</pa> <d>\\xe0\\xa4\\xac\\xe0\\xa4\\xbe\\xe0\\xa4\\x82\\xe0\\xa4\\x9f</d> <i>b\\xc4\\x81\\xe1\\xb9\\x85\\xe1\\xb9\\xad</i> [S. <d>\\xe0\\xa4\\xb5\\xe0\\xa4\\xa3\\xe0\\xa5\\x8d\\xe0\\xa4\\x9f</d>, rt. <d>\\xe0\\xa4\\xb5\\xe0\\xa4\\xa3\\xe0\\xa5\\x8d\\xe0\\xa4\\x9f\\xe0\\xa5\\x8d</d>], s.m.f. Dividing,\\n\\napportioning; division, distribution (syn. <i>taqs\\xc4\\xabm</i>); part,\\nportion, share, allotment; dealing, deal (at cards); lot,\\nconcern, business;\\xe2\\x80\\x94food given to a cow while milking\\nher:\\xe2\\x80\\x94<i>b\\xc4\\x81\\xe1\\xb9\\x85\\xe1\\xb9\\xad-ba\\xe1\\xb9\\xad\\xc4\\x81\\xca\\xbc\\xc5\\xab</i>, s.m. Apportioner, distributer=<i>b\\xc4\\x81\\xe1\\xb9\\x85\\xe1\\xb9\\xad\\xc5\\xab</i>;\\n(in Arith.) denominator (syn. <i>nasab-num\\xc4\\x81</i>):\\xe2\\x80\\x94<i>b\\xc4\\x81\\xe1\\xb9\\x85\\xe1\\xb9\\xad-b\\xc5\\xab\\xe1\\xb9\\x85\\xe1\\xb9\\xad</i>,\\ns.f.=<i>b\\xc4\\x81\\xe1\\xb9\\x85\\xe1\\xb9\\xad-\\xc4\\x87\\xc5\\xab\\xe1\\xb9\\x85\\xe1\\xb9\\xad</i>, q.v.:\\xe2\\x80\\x94<i>b\\xc4\\x81\\xe1\\xb9\\x85\\xe1\\xb9\\xad-patra</i>, s.m. Deed or record of\\ndivision of property (syn. <i>taqs\\xc4\\xabm-n\\xc4\\x81ma</i>):\\xe2\\x80\\x94<i>b\\xc4\\x81\\xe1\\xb9\\x85\\xe1\\xb9\\xad-phal</i>, s.m.\\n(in Arith.), Quotient (syn. <i>\\xe1\\xb8\\xb5\\xe1\\xba\\x96\\xc4\\x81rij-qismat</i>, and <i>labdhi</i>):\\xe2\\x80\\x94<i>b\\xc4\\x81\\xe1\\xb9\\x85\\xe1\\xb9\\xad-\\xc4\\x87\\xc5\\xab\\xe1\\xb9\\x85\\xe1\\xb9\\xad</i>, s.m.f. Distribution, share, &c.=<i>b\\xc4\\x81\\xe1\\xb9\\x85t</i>, q.v.</p></div2>\\n\\n\\n<div2 type=\"article\" id=\"\\xd8\\xa8\\xd8\\xa7\\xd9\\x86\\xd9\\xbf\\xd8\\xa7_\\xe0\\xa4\\xac\\xe0\\xa4\\xbe\\xe0\\xa4\\x82\\xe0\\xa4\\x9f\\xe0\\xa4\\xbe_b\\xc4\\x81\\xe1\\xb9\\x85\\xe1\\xb9\\xad\\xc4\\x81\">\\n<span class=head><span class=hi>\\xd8\\xa8\\xd8\\xa7\\xd9\\x86\\xd9\\xbf\\xd8\\xa7 \\xe0\\xa4\\xac\\xe0\\xa4\\xbe\\xe0\\xa4\\x82\\xe0\\xa4\\x9f\\xe0\\xa4\\xbe b\\xc4\\x81\\xe1\\xb9\\x85\\xe1\\xb9\\xad\\xc4\\x81</span></span>\\n<p>H <pa>\\xd8\\xa8\\xd8\\xa7\\xd9\\x86\\xd9\\xbf\\xd8\\xa7</pa> <d>\\xe0\\xa4\\xac\\xe0\\xa4\\xbe\\xe0\\xa4\\x82\\xe0\\xa4\\x9f\\xe0\\xa4\\xbe</d> <i>b\\xc4\\x81\\xe1\\xb9\\x85\\xe1\\xb9\\xad\\xc4\\x81</i> [S. <d>\\xe0\\xa4\\xb5\\xe0\\xa4\\xa3\\xe0\\xa5\\x8d\\xe0\\xa4\\x9f\\xe0\\xa4\\x95\\xe0\\xa4\\x83</d>], s.m. Dividing, &c.; share,\\n\\nportion, &c.=<i>b\\xc4\\x81\\xe1\\xb9\\x85\\xe1\\xb9\\xad</i>, q.v.;\\xe2\\x80\\x94tying up the crops into bundles and sheaves.</p></div2>\\n\\n\\n<div2 type=\"article\" id=\"\\xd8\\xa8\\xd8\\xa7\\xd9\\x86\\xd9\\xbf\\xd8\\xa7_\\xe0\\xa4\\xac\\xe0\\xa4\\xbe\\xe0\\xa4\\x82\\xe0\\xa4\\x9f\\xe0\\xa4\\xbe_b\\xc4\\x81\\xe1\\xb9\\x85\\xe1\\xb9\\xad\\xc4\\x81_part_of_next,_q.v.\">\\n<span class=head><span class=hi>\\xd8\\xa8\\xd8\\xa7\\xd9\\x86\\xd9\\xbf\\xd8\\xa7 \\xe0\\xa4\\xac\\xe0\\xa4\\xbe\\xe0\\xa4\\x82\\xe0\\xa4\\x9f\\xe0\\xa4\\xbe b\\xc4\\x81\\xe1\\xb9\\x85\\xe1\\xb9\\xad\\xc4\\x81 part of next, q.v.</span></span>\\n<p>H <pa>\\xd8\\xa8\\xd8\\xa7\\xd9\\x86\\xd9\\xbf\\xd8\\xa7</pa> <d>\\xe0\\xa4\\xac\\xe0\\xa4\\xbe\\xe0\\xa4\\x82\\xe0\\xa4\\x9f\\xe0\\xa4\\xbe</d> <i>b\\xc4\\x81\\xe1\\xb9\\x85\\xe1\\xb9\\xad\\xc4\\x81</i> (part of next, q.v.), adj. Divided,\\n\\napportioned, &c.:\\xe2\\x80\\x94<i>b\\xc4\\x81\\xe1\\xb9\\x85\\xe1\\xb9\\xad\\xc4\\x81-hu\\xca\\xbc\\xc4\\x81</i>, adj.=<i>b\\xc4\\x81\\xe1\\xb9\\x85\\xe1\\xb9\\xad\\xc4\\x81</i>;\\xe2\\x80\\x94s.m. (in Arith.), Dividend (also <i>ba\\xe1\\xb9\\xad\\xc4\\x81-hu\\xca\\xbc\\xc4\\x81</i>, syn. <i>bh\\xc4\\x81jya</i>,\\nand <i>maqs\\xc5\\xabm</i>).</p></div2>\\n\\n\\n<div2 type=\"article\" id=\"\\xd8\\xa8\\xd8\\xa7\\xd9\\x86\\xd9\\xbf\\xd9\\x86\\xd8\\xa7_\\xe0\\xa4\\xac\\xe0\\xa4\\xbe\\xe0\\xa4\\x82\\xe0\\xa4\\x9f\\xe0\\xa4\\xa8\\xe0\\xa4\\xbe_b\\xc4\\x81\\xe1\\xb9\\x85\\xe1\\xb9\\xadn\\xc4\\x81\">\\n<span class=head><span class=hi>\\xd8\\xa8\\xd8\\xa7\\xd9\\x86\\xd9\\xbf\\xd9\\x86\\xd8\\xa7 \\xe0\\xa4\\xac\\xe0\\xa4\\xbe\\xe0\\xa4\\x82\\xe0\\xa4\\x9f\\xe0\\xa4\\xa8\\xe0\\xa4\\xbe b\\xc4\\x81\\xe1\\xb9\\x85\\xe1\\xb9\\xadn\\xc4\\x81</span></span>\\n<p>H <pa>\\xd8\\xa8\\xd8\\xa7\\xd9\\x86\\xd9\\xbf\\xd9\\x86\\xd8\\xa7</pa> <d>\\xe0\\xa4\\xac\\xe0\\xa4\\xbe\\xe0\\xa4\\x82\\xe0\\xa4\\x9f\\xe0\\xa4\\xa8\\xe0\\xa4\\xbe</d> <i>b\\xc4\\x81\\xe1\\xb9\\x85\\xe1\\xb9\\xadn\\xc4\\x81</i> [S. <d>\\xe0\\xa4\\xb5\\xe0\\xa4\\xa3\\xe0\\xa5\\x8d\\xe0\\xa4\\x9f\\xe0\\xa4\\xa8\\xe0\\xa5\\x80\\xe0\\xa4\\xaf\\xe0\\xa4\\x82</d>], v.t. To divide, apportion, distribute, portion out, parcel out, divide into\\n\\nshares; to dispense, dispose of, assign; to participate,\\ngo shares in:\\xe2\\x80\\x94<i>b\\xc4\\x81\\xe1\\xb9\\x85\\xe1\\xb9\\xad den\\xc4\\x81</i>, v.t. To divide, portion out (for,\\nor in the name of, -<i>par</i>), &c.=<i>b\\xc4\\x81\\xe1\\xb9\\x85\\xe1\\xb9\\xadn\\xc4\\x81</i>, q.v.:\\xe2\\x80\\x94<i>b\\xc4\\x81\\xe1\\xb9\\x85\\xe1\\xb9\\xad len\\xc4\\x81</i>, v.t.\\nTo participate, go shares in, &c.</p></div2>\\n\\n\\n<div2 type=\"article\" id=\"\\xd8\\xa8\\xd8\\xa7\\xd9\\x86\\xd9\\xbf\\xd9\\x86\\xd8\\xa7_\\xe0\\xa4\\xac\\xe0\\xa4\\xbe\\xe0\\xa4\\x82\\xe0\\xa4\\x9f\\xe0\\xa4\\xa8\\xe0\\xa4\\xbe_b\\xc4\\x81\\xe1\\xb9\\x85\\xe1\\xb9\\xadn\\xc4\\x81_caus._of_ba\\xe1\\xb9\\xadn\\xc4\\x81,_q.v.\">\\n<span class=head><span class=hi>\\xd8\\xa8\\xd8\\xa7\\xd9\\x86\\xd9\\xbf\\xd9\\x86\\xd8\\xa7 \\xe0\\xa4\\xac\\xe0\\xa4\\xbe\\xe0\\xa4\\x82\\xe0\\xa4\\x9f\\xe0\\xa4\\xa8\\xe0\\xa4\\xbe b\\xc4\\x81\\xe1\\xb9\\x85\\xe1\\xb9\\xadn\\xc4\\x81 caus. of ba\\xe1\\xb9\\xadn\\xc4\\x81, q.v.</span></span>\\n<p>H <pa>\\xd8\\xa8\\xd8\\xa7\\xd9\\x86\\xd9\\xbf\\xd9\\x86\\xd8\\xa7</pa> <d>\\xe0\\xa4\\xac\\xe0\\xa4\\xbe\\xe0\\xa4\\x82\\xe0\\xa4\\x9f\\xe0\\xa4\\xa8\\xe0\\xa4\\xbe</d> <i>b\\xc4\\x81\\xe1\\xb9\\x85\\xe1\\xb9\\xadn\\xc4\\x81</i> (caus. of <i>ba\\xe1\\xb9\\xadn\\xc4\\x81</i>, q.v.), v.t. To twist,\\n\\ntwine.</p></div2>\\n\\n\\n<div2 type=\"article\" id=\"\\xd8\\xa8\\xd8\\xa7\\xd9\\x86\\xd9\\xbf\\xd9\\x88_\\xe0\\xa4\\xac\\xe0\\xa4\\xbe\\xe0\\xa4\\x82\\xe0\\xa4\\x9f\\xe0\\xa5\\x82_b\\xc4\\x81\\xe1\\xb9\\x85\\xe1\\xb9\\xad\\xc5\\xab\">\\n<span class=head><span class=hi>\\xd8\\xa8\\xd8\\xa7\\xd9\\x86\\xd9\\xbf\\xd9\\x88 \\xe0\\xa4\\xac\\xe0\\xa4\\xbe\\xe0\\xa4\\x82\\xe0\\xa4\\x9f\\xe0\\xa5\\x82 b\\xc4\\x81\\xe1\\xb9\\x85\\xe1\\xb9\\xad\\xc5\\xab</span></span>\\n<p>H <pa>\\xd8\\xa8\\xd8\\xa7\\xd9\\x86\\xd9\\xbf\\xd9\\x88</pa> <d>\\xe0\\xa4\\xac\\xe0\\xa4\\xbe\\xe0\\xa4\\x82\\xe0\\xa4\\x9f\\xe0\\xa5\\x82</d> <i>b\\xc4\\x81\\xe1\\xb9\\x85\\xe1\\xb9\\xad\\xc5\\xab</i> [S. <d>\\xe0\\xa4\\xb5\\xe0\\xa4\\xa3\\xe0\\xa5\\x8d\\xe0\\xa4\\x9f</d>+<d>\\xe0\\xa4\\x89\\xe0\\xa4\\x95</d>], s.m. Divider, apportioner, &c.; (in Arith.), divisor (syn. <i>bh\\xc4\\x81jak</i>, and <i>maqs\\xc5\\xabm-ilaih</i>).</p>\\n</div2>\\n\\n\\n<div2 type=\"article\" id=\"\\xd8\\xa8\\xd8\\xa7\\xd9\\x86\\xd9\\xbf\\xd9\\x87\\xd9\\x86\\xd8\\xa7_\\xe0\\xa4\\xac\\xe0\\xa4\\xbe\\xe0\\xa4\\x82\\xe0\\xa4\\xa0\\xe0\\xa4\\xa8\\xe0\\xa4\\xbe_b\\xc4\\x81\\xe1\\xb9\\x85\\xe1\\xb9\\xadhn\\xc4\\x81\">\\n<span class=head><span class=hi>\\xd8\\xa8\\xd8\\xa7\\xd9\\x86\\xd9\\xbf\\xd9\\x87\\xd9\\x86\\xd8\\xa7 \\xe0\\xa4\\xac\\xe0\\xa4\\xbe\\xe0\\xa4\\x82\\xe0\\xa4\\xa0\\xe0\\xa4\\xa8\\xe0\\xa4\\xbe b\\xc4\\x81\\xe1\\xb9\\x85\\xe1\\xb9\\xadhn\\xc4\\x81</span></span>\\n<p>H <pa>\\xd8\\xa8\\xd8\\xa7\\xd9\\x86\\xd9\\xbf\\xd9\\x87\\xd9\\x86\\xd8\\xa7</pa> <d>\\xe0\\xa4\\xac\\xe0\\xa4\\xbe\\xe0\\xa4\\x82\\xe0\\xa4\\xa0\\xe0\\xa4\\xa8\\xe0\\xa4\\xbe</d> <i>b\\xc4\\x81\\xe1\\xb9\\x85\\xe1\\xb9\\xadhn\\xc4\\x81</i>, v.t.=<i>b\\xc4\\x81\\xe1\\xb9\\x85\\xe1\\xb9\\xadn\\xc4\\x81</i>, \\'to divide,\\' &c.</p>\\n</div2>\\n\\n\\n<div2 type=\"article\" id=\"\\xd8\\xa8\\xd8\\xa7\\xd9\\x86\\xd8\\xac_\\xe0\\xa4\\xac\\xe0\\xa4\\xbe\\xe0\\xa4\\x82\\xe0\\xa4\\x9c_b\\xc4\\x81\\xe1\\xb9\\x85j\">\\n<span class=head><span class=hi>\\xd8\\xa8\\xd8\\xa7\\xd9\\x86\\xd8\\xac \\xe0\\xa4\\xac\\xe0\\xa4\\xbe\\xe0\\xa4\\x82\\xe0\\xa4\\x9c b\\xc4\\x81\\xe1\\xb9\\x85j</span></span>\\n<p>H <pa>\\xd8\\xa8\\xd8\\xa7\\xd9\\x86\\xd8\\xac</pa> <d>\\xe0\\xa4\\xac\\xe0\\xa4\\xbe\\xe0\\xa4\\x82\\xe0\\xa4\\x9c</d> <i>b\\xc4\\x81\\xe1\\xb9\\x85j</i>, adj. Barren, &c.=<i>b\\xc4\\x81njh</i>, q.v.</p>\\n</div2>\\n\\n\\n<div2 type=\"article\" id=\"\\xd8\\xa8\\xd8\\xa7\\xd9\\x86\\xd8\\xac\\xd8\\xb1_\\xe0\\xa4\\xac\\xe0\\xa4\\xbe\\xe0\\xa4\\x82\\xe0\\xa4\\x9c\\xe0\\xa4\\xb0_b\\xc4\\x81njar\">\\n<span class=head><span class=hi>\\xd8\\xa8\\xd8\\xa7\\xd9\\x86\\xd8\\xac\\xd8\\xb1 \\xe0\\xa4\\xac\\xe0\\xa4\\xbe\\xe0\\xa4\\x82\\xe0\\xa4\\x9c\\xe0\\xa4\\xb0 b\\xc4\\x81njar</span></span>\\n<p>H <pa>\\xd8\\xa8\\xd8\\xa7\\xd9\\x86\\xd8\\xac\\xd8\\xb1</pa> <d>\\xe0\\xa4\\xac\\xe0\\xa4\\xbe\\xe0\\xa4\\x82\\xe0\\xa4\\x9c\\xe0\\xa4\\xb0</d> <i>b\\xc4\\x81njar</i>, adj. Waste or fallow (land);\\xe2\\x80\\x94see <i>banjar</i>.</p>\\n</div2>\\n\\n\\n<div2 type=\"article\" id=\"\\xd8\\xa8\\xd8\\xa7\\xd9\\x86\\xd8\\xac\\xd9\\x87\\xdb\\x81_\\xe0\\xa4\\xac\\xe0\\xa4\\xbe\\xe0\\xa4\\x82\\xe0\\xa4\\x9d_b\\xc4\\x81\\xe1\\xb9\\x85jh\">\\n<span class=head><span class=hi>\\xd8\\xa8\\xd8\\xa7\\xd9\\x86\\xd8\\xac\\xd9\\x87\\xdb\\x81 \\xe0\\xa4\\xac\\xe0\\xa4\\xbe\\xe0\\xa4\\x82\\xe0\\xa4\\x9d b\\xc4\\x81\\xe1\\xb9\\x85jh</span></span>\\n<p>H <pa>\\xd8\\xa8\\xd8\\xa7\\xd9\\x86\\xd8\\xac\\xd9\\x87\\xdb\\x81</pa> <d>\\xe0\\xa4\\xac\\xe0\\xa4\\xbe\\xe0\\xa4\\x82\\xe0\\xa4\\x9d</d> <i>b\\xc4\\x81\\xe1\\xb9\\x85jh</i> [S. <d>\\xe0\\xa4\\xac\\xe0\\xa4\\x82\\xe0\\xa4\\xa7\\xe0\\xa5\\x8d\\xe0\\xa4\\xaf\\xe0\\xa4\\xbe</d>], adj. Barren (woman); unproductive, sterile (soil).</p>\\n</div2>\\n\\n\\n<div2 type=\"article\" id=\"\\xd8\\xa8\\xd8\\xa7\\xd9\\x86\\xd8\\xac\\xd9\\x87\\xdb\\x81_\\xe0\\xa4\\xac\\xe0\\xa4\\xbe\\xe0\\xa4\\x82\\xe0\\xa4\\x9d_b\\xc4\\x81\\xe1\\xb9\\x85jh,_b\\xc4\\x81\\xe1\\xb9\\x85j,_banji\">\\n<span class=head><span class=hi>\\xd8\\xa8\\xd8\\xa7\\xd9\\x86\\xd8\\xac\\xd9\\x87\\xdb\\x81 \\xe0\\xa4\\xac\\xe0\\xa4\\xbe\\xe0\\xa4\\x82\\xe0\\xa4\\x9d b\\xc4\\x81\\xe1\\xb9\\x85jh, b\\xc4\\x81\\xe1\\xb9\\x85j, banji</span></span>\\n<p>H <pa>\\xd8\\xa8\\xd8\\xa7\\xd9\\x86\\xd8\\xac\\xd9\\x87\\xdb\\x81</pa> <d>\\xe0\\xa4\\xac\\xe0\\xa4\\xbe\\xe0\\xa4\\x82\\xe0\\xa4\\x9d</d> <i>b\\xc4\\x81\\xe1\\xb9\\x85jh</i>, <i>b\\xc4\\x81\\xe1\\xb9\\x85j</i>, <i>banji</i> [S. <d>\\xe0\\xa4\\xb5\\xe0\\xa4\\xa8</d>+<d>\\xe0\\xa4\\x9c</d>, or <d>\\xe0\\xa4\\xb5\\xe0\\xa4\\xa8</d>+<d>\\xe0\\xa4\\xb0\\xe0\\xa4\\xbe\\xe0\\xa4\\x9c\\xe0\\xa4\\xbf</d>], s.m. The tree <i>Quercus incana</i>, or <i>dilatata</i> (common\\n\\nin the outer Himalaya, the acorns of which are commonly made into necklaces for children, and are regarded\\nas a charm against evil spirits).</p></div2>\\n\\n\\n<div2 type=\"article\" id=\"\\xd8\\xa8\\xd8\\xa7\\xd9\\x86\\xd8\\xac\\xd9\\x8a\\xd9\\x87_\\xe0\\xa4\\xac\\xe0\\xa4\\xbe\\xe0\\xa4\\xa3\\xe0\\xa4\\xbf\\xe0\\xa4\\x9c\\xe0\\xa5\\x8d\\xe0\\xa4\\xaf_b\\xc4\\x81\\xe1\\xb9\\x87ijya\">\\n<span class=head><span class=hi>\\xd8\\xa8\\xd8\\xa7\\xd9\\x86\\xd8\\xac\\xd9\\x8a\\xd9\\x87 \\xe0\\xa4\\xac\\xe0\\xa4\\xbe\\xe0\\xa4\\xa3\\xe0\\xa4\\xbf\\xe0\\xa4\\x9c\\xe0\\xa5\\x8d\\xe0\\xa4\\xaf b\\xc4\\x81\\xe1\\xb9\\x87ijya</span></span>\\n<p>S <pa>\\xd8\\xa8\\xd8\\xa7\\xd9\\x86\\xd8\\xac\\xd9\\x8a\\xd9\\x87</pa> <d>\\xe0\\xa4\\xac\\xe0\\xa4\\xbe\\xe0\\xa4\\xa3\\xe0\\xa4\\xbf\\xe0\\xa4\\x9c\\xe0\\xa5\\x8d\\xe0\\xa4\\xaf</d> <i>b\\xc4\\x81\\xe1\\xb9\\x87ijya</i>, s.m. Trade, commerce, merchandise, traffic (=<i>banij</i>, q.v.).</p>\\n</div2>\\n\\n\\n<div2 type=\"article\" id=\"\\xd8\\xa8\\xd8\\xa7\\xd9\\x86\\xda\\x86\\xda\\xa9\\xd8\\xa7_\\xe0\\xa4\\xac\\xe0\\xa4\\xbe\\xe0\\xa4\\x82\\xe0\\xa4\\x9a\\xe0\\xa4\\x95\\xe0\\xa4\\xbe_b\\xc4\\x81\\xe1\\xb9\\x85\\xc4\\x87ak\\xc4\\x81\">\\n<span class=head><span class=hi>\\xd8\\xa8\\xd8\\xa7\\xd9\\x86\\xda\\x86\\xda\\xa9\\xd8\\xa7 \\xe0\\xa4\\xac\\xe0\\xa4\\xbe\\xe0\\xa4\\x82\\xe0\\xa4\\x9a\\xe0\\xa4\\x95\\xe0\\xa4\\xbe b\\xc4\\x81\\xe1\\xb9\\x85\\xc4\\x87ak\\xc4\\x81</span></span>\\n<p>H <pa>\\xd8\\xa8\\xd8\\xa7\\xd9\\x86\\xda\\x86\\xda\\xa9\\xd8\\xa7</pa> <d>\\xe0\\xa4\\xac\\xe0\\xa4\\xbe\\xe0\\xa4\\x82\\xe0\\xa4\\x9a\\xe0\\xa4\\x95\\xe0\\xa4\\xbe</d> <i>b\\xc4\\x81\\xe1\\xb9\\x85\\xc4\\x87ak\\xc4\\x81</i>, s.f. Reading, elocution (see next).</p>\\n</div2>\\n\\n\\n<div2 type=\"article\" id=\"\\xd8\\xa8\\xd8\\xa7\\xd9\\x86\\xda\\x86\\xd9\\x86\\xd8\\xa7_\\xe0\\xa4\\xac\\xe0\\xa4\\xbe\\xe0\\xa4\\x82\\xe0\\xa4\\x9a\\xe0\\xa4\\xa8\\xe0\\xa4\\xbe_b\\xc4\\x81\\xe1\\xb9\\x85\\xc4\\x87n\\xc4\\x81\">\\n<span class=head><span class=hi>\\xd8\\xa8\\xd8\\xa7\\xd9\\x86\\xda\\x86\\xd9\\x86\\xd8\\xa7 \\xe0\\xa4\\xac\\xe0\\xa4\\xbe\\xe0\\xa4\\x82\\xe0\\xa4\\x9a\\xe0\\xa4\\xa8\\xe0\\xa4\\xbe b\\xc4\\x81\\xe1\\xb9\\x85\\xc4\\x87n\\xc4\\x81</span></span>\\n<p>H <pa>\\xd8\\xa8\\xd8\\xa7\\xd9\\x86\\xda\\x86\\xd9\\x86\\xd8\\xa7</pa> <d>\\xe0\\xa4\\xac\\xe0\\xa4\\xbe\\xe0\\xa4\\x82\\xe0\\xa4\\x9a\\xe0\\xa4\\xa8\\xe0\\xa4\\xbe</d> <i>b\\xc4\\x81\\xe1\\xb9\\x85\\xc4\\x87n\\xc4\\x81</i> [<i>b\\xc4\\x81\\xe1\\xb9\\x85\\xc4\\x87\\xcb\\x9a</i> = Prk. <d>\\xe0\\xa4\\xb5\\xe0\\xa4\\x9a\\xe0\\xa5\\x8d\\xe0\\xa4\\x9a</d>(<d>\\xe0\\xa4\\x87</d>), fr. S. <d>\\xe0\\xa4\\xb5\\xe0\\xa4\\xbe\\xe0\\xa4\\x9a\\xe0\\xa5\\x8d\\xe0\\xa4\\xaf</d>], v.t. To\\n\\nread; to study; to decipher, make out.</p></div2>\\n\\n\\n<div2 type=\"article\" id=\"\\xd8\\xa8\\xd8\\xa7\\xd9\\x86\\xda\\x86\\xd9\\x86\\xd8\\xa7_\\xe0\\xa4\\xac\\xe0\\xa4\\xbe\\xe0\\xa4\\x82\\xe0\\xa4\\x9a\\xe0\\xa4\\xa8\\xe0\\xa4\\xbe_b\\xc4\\x81\\xe1\\xb9\\x85\\xc4\\x87n\\xc4\\x81_caus._of_ba\\xc4\\x87n\\xc4\\x81,_q.v.\">\\n<span class=head><span class=hi>\\xd8\\xa8\\xd8\\xa7\\xd9\\x86\\xda\\x86\\xd9\\x86\\xd8\\xa7 \\xe0\\xa4\\xac\\xe0\\xa4\\xbe\\xe0\\xa4\\x82\\xe0\\xa4\\x9a\\xe0\\xa4\\xa8\\xe0\\xa4\\xbe b\\xc4\\x81\\xe1\\xb9\\x85\\xc4\\x87n\\xc4\\x81 caus. of ba\\xc4\\x87n\\xc4\\x81, q.v.</span></span>\\n<p>H <pa>\\xd8\\xa8\\xd8\\xa7\\xd9\\x86\\xda\\x86\\xd9\\x86\\xd8\\xa7</pa> <d>\\xe0\\xa4\\xac\\xe0\\xa4\\xbe\\xe0\\xa4\\x82\\xe0\\xa4\\x9a\\xe0\\xa4\\xa8\\xe0\\xa4\\xbe</d> <i>b\\xc4\\x81\\xe1\\xb9\\x85\\xc4\\x87n\\xc4\\x81</i> (caus. of <i>ba\\xc4\\x87n\\xc4\\x81</i>, q.v.), v.t. To\\n\\npass over, overlook, disregard, neglect;\\xe2\\x80\\x94also (prov.)=<i>ba\\xc4\\x87n\\xc4\\x81</i>, q.v.</p></div2>\\n\\n\\n<div2 type=\"article\" id=\"\\xd8\\xa8\\xd8\\xa7\\xd9\\x86\\xda\\x86\\xd9\\x87\\xd8\\xa7_\\xe0\\xa4\\xac\\xe0\\xa4\\xbe\\xe0\\xa4\\x82\\xe0\\xa4\\x9b\\xe0\\xa4\\xbe_b\\xc4\\x81\\xe1\\xb9\\x85\\xc4\\x87h\\xc4\\x81\">\\n<span class=head><span class=hi>\\xd8\\xa8\\xd8\\xa7\\xd9\\x86\\xda\\x86\\xd9\\x87\\xd8\\xa7 \\xe0\\xa4\\xac\\xe0\\xa4\\xbe\\xe0\\xa4\\x82\\xe0\\xa4\\x9b\\xe0\\xa4\\xbe b\\xc4\\x81\\xe1\\xb9\\x85\\xc4\\x87h\\xc4\\x81</span></span>\\n<p>H <pa>\\xd8\\xa8\\xd8\\xa7\\xd9\\x86\\xda\\x86\\xd9\\x87\\xd8\\xa7</pa> <d>\\xe0\\xa4\\xac\\xe0\\xa4\\xbe\\xe0\\xa4\\x82\\xe0\\xa4\\x9b\\xe0\\xa4\\xbe</d> <i>b\\xc4\\x81\\xe1\\xb9\\x85\\xc4\\x87h\\xc4\\x81</i> [S. <d>\\xe0\\xa4\\xb5\\xe0\\xa4\\xbe\\xe0\\xa4\\x9e\\xe0\\xa5\\x8d\\xe0\\xa4\\x9b\\xe0\\xa4\\xbe</d>], s.f. Wish, desire.</p>\\n</div2>\\n\\n\\n<div2 type=\"article\" id=\"\\xd8\\xa8\\xd8\\xa7\\xd9\\x86\\xda\\x86\\xd9\\x87\\xd8\\xaa_\\xe0\\xa4\\xac\\xe0\\xa4\\xbe\\xe0\\xa4\\x82\\xe0\\xa4\\x9b\\xe0\\xa4\\xbf\\xe0\\xa4\\xa4_b\\xc4\\x81\\xe1\\xb9\\x85\\xc4\\x87hit,_b\\xc4\\x81\\xe1\\xb9\\x85\\xc4\\x87hat\">\\n<span class=head><span class=hi>\\xd8\\xa8\\xd8\\xa7\\xd9\\x86\\xda\\x86\\xd9\\x87\\xd8\\xaa \\xe0\\xa4\\xac\\xe0\\xa4\\xbe\\xe0\\xa4\\x82\\xe0\\xa4\\x9b\\xe0\\xa4\\xbf\\xe0\\xa4\\xa4 b\\xc4\\x81\\xe1\\xb9\\x85\\xc4\\x87hit, b\\xc4\\x81\\xe1\\xb9\\x85\\xc4\\x87hat</span></span>\\n<p>H <pa>\\xd8\\xa8\\xd8\\xa7\\xd9\\x86\\xda\\x86\\xd9\\x87\\xd8\\xaa</pa> <d>\\xe0\\xa4\\xac\\xe0\\xa4\\xbe\\xe0\\xa4\\x82\\xe0\\xa4\\x9b\\xe0\\xa4\\xbf\\xe0\\xa4\\xa4</d> <i>b\\xc4\\x81\\xe1\\xb9\\x85\\xc4\\x87hit</i>, <i>b\\xc4\\x81\\xe1\\xb9\\x85\\xc4\\x87hat</i> [S. <d>\\xe0\\xa4\\xb5\\xe0\\xa4\\xbe\\xe0\\xa4\\x9e\\xe0\\xa5\\x8d\\xe0\\xa4\\x9b\\xe0\\xa4\\xbf\\xe0\\xa4\\xa4</d>],\\n\\npart. adj. Wished for, desired, longed for.</p></div2>\\n\\n\\n<div2 type=\"article\" id=\"\\xd8\\xa8\\xd8\\xa7\\xda\\x86\\xd9\\x87\\xd9\\x86\\xd8\\xa7_\\xe0\\xa4\\xac\\xe0\\xa4\\xbe\\xe0\\xa4\\x82\\xe0\\xa4\\x9b\\xe0\\xa4\\xa8\\xe0\\xa4\\xbe_b\\xc4\\x81\\xe1\\xb9\\x85\\xc4\\x87hn\\xc4\\x81\">\\n<span class=head><span class=hi>\\xd8\\xa8\\xd8\\xa7\\xda\\x86\\xd9\\x87\\xd9\\x86\\xd8\\xa7 \\xe0\\xa4\\xac\\xe0\\xa4\\xbe\\xe0\\xa4\\x82\\xe0\\xa4\\x9b\\xe0\\xa4\\xa8\\xe0\\xa4\\xbe b\\xc4\\x81\\xe1\\xb9\\x85\\xc4\\x87hn\\xc4\\x81</span></span>\\n<p>H <pa>\\xd8\\xa8\\xd8\\xa7\\xda\\x86\\xd9\\x87\\xd9\\x86\\xd8\\xa7</pa> <d>\\xe0\\xa4\\xac\\xe0\\xa4\\xbe\\xe0\\xa4\\x82\\xe0\\xa4\\x9b\\xe0\\xa4\\xa8\\xe0\\xa4\\xbe</d>\\n<i>b\\xc4\\x81\\xe1\\xb9\\x85\\xc4\\x87hn\\xc4\\x81</i> [Prk. <d>\\xe0\\xa4\\xb5\\xe0\\xa4\\xbe\\xe0\\xa4\\x82\\xe0\\xa4\\x9b\\xe0\\xa4\\xa3\\xe0\\xa4\\x85\\xe0\\xa4\\x82</d>=S. <d>\\xe0\\xa4\\xb5\\xe0\\xa4\\xbe\\xe0\\xa4\\x9e\\xe0\\xa5\\x8d\\xe0\\xa4\\x9b\\xe0\\xa4\\xa8\\xe0\\xa5\\x80\\xe0\\xa4\\xaf</d>, rt. <d>\\xe0\\xa4\\xb5\\xe0\\xa4\\xbe\\xe0\\xa4\\x9e\\xe0\\xa5\\x8d\\xe0\\xa4\\x9b\\xe0\\xa5\\x8d</d>], v.n. To wish (for), to desire.</p>\\r\\n</div2>\\n\\n\\n<div2 type=\"article\" id=\"\\xd8\\xa8\\xd8\\xa7\\xd9\\x86\\xd8\\xaf\\xd8\\xa7_\\xe0\\xa4\\xac\\xe0\\xa4\\xbe\\xe0\\xa4\\xa8\\xe0\\xa5\\x8d\\xe0\\xa4\\xa6\\xe0\\xa4\\xbe_b\\xc4\\x81\\xe1\\xb9\\x85d\\xc4\\x81\">\\n<span class=head><span class=hi>\\xd8\\xa8\\xd8\\xa7\\xd9\\x86\\xd8\\xaf\\xd8\\xa7 \\xe0\\xa4\\xac\\xe0\\xa4\\xbe\\xe0\\xa4\\xa8\\xe0\\xa5\\x8d\\xe0\\xa4\\xa6\\xe0\\xa4\\xbe b\\xc4\\x81\\xe1\\xb9\\x85d\\xc4\\x81</span></span>\\n<p>H <pa>\\xd8\\xa8\\xd8\\xa7\\xd9\\x86\\xd8\\xaf\\xd8\\xa7</pa> <d>\\xe0\\xa4\\xac\\xe0\\xa4\\xbe\\xe0\\xa4\\xa8\\xe0\\xa5\\x8d\\xe0\\xa4\\xa6\\xe0\\xa4\\xbe</d> <i>b\\xc4\\x81\\xe1\\xb9\\x85d\\xc4\\x81</i>, s.m. Name of a place in Bundelkhand.</p>\\n\\n</div2>\\n\\n\\n</div1>\\n</body>\\n</text>\\n</span>\\n</span>'"
      ]
     },
     "execution_count": 22,
     "metadata": {},
     "output_type": "execute_result"
    }
   ],
   "source": [
    "content.split('</table>')[-2].split('<table ')[0]"
   ]
  }
 ],
 "metadata": {
  "kernelspec": {
   "display_name": "Python 2",
   "language": "python",
   "name": "python2"
  },
  "language_info": {
   "codemirror_mode": {
    "name": "ipython",
    "version": 2
   },
   "file_extension": ".py",
   "mimetype": "text/x-python",
   "name": "python",
   "nbconvert_exporter": "python",
   "pygments_lexer": "ipython2",
   "version": "2.7.13"
  }
 },
 "nbformat": 4,
 "nbformat_minor": 2
}
